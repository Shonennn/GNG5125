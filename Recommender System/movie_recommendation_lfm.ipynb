{
 "cells": [
  {
   "cell_type": "markdown",
   "metadata": {},
   "source": [
    "# Recommender System -- LFM"
   ]
  },
  {
   "cell_type": "code",
   "execution_count": 5,
   "metadata": {},
   "outputs": [],
   "source": [
    "from collections import defaultdict\n",
    "from matplotlib import pyplot as plt\n",
    "from sklearn.model_selection import train_test_split\n",
    "from tqdm import tqdm\n",
    "import numpy as np\n",
    "import pandas as pd\n",
    "np.random.seed(100)"
   ]
  },
  {
   "cell_type": "markdown",
   "metadata": {},
   "source": [
    "## Data preprocess\n",
    "https://grouplens.org/datasets/movielens/"
   ]
  },
  {
   "cell_type": "code",
   "execution_count": 6,
   "metadata": {},
   "outputs": [
    {
     "data": {
      "text/html": [
       "<div>\n",
       "<style scoped>\n",
       "    .dataframe tbody tr th:only-of-type {\n",
       "        vertical-align: middle;\n",
       "    }\n",
       "\n",
       "    .dataframe tbody tr th {\n",
       "        vertical-align: top;\n",
       "    }\n",
       "\n",
       "    .dataframe thead th {\n",
       "        text-align: right;\n",
       "    }\n",
       "</style>\n",
       "<table border=\"1\" class=\"dataframe\">\n",
       "  <thead>\n",
       "    <tr style=\"text-align: right;\">\n",
       "      <th></th>\n",
       "      <th>user_id</th>\n",
       "      <th>movie_id</th>\n",
       "      <th>rating</th>\n",
       "      <th>timestamp</th>\n",
       "    </tr>\n",
       "  </thead>\n",
       "  <tbody>\n",
       "    <tr>\n",
       "      <th>0</th>\n",
       "      <td>1</td>\n",
       "      <td>1193</td>\n",
       "      <td>5</td>\n",
       "      <td>978300760</td>\n",
       "    </tr>\n",
       "    <tr>\n",
       "      <th>1</th>\n",
       "      <td>1</td>\n",
       "      <td>661</td>\n",
       "      <td>3</td>\n",
       "      <td>978302109</td>\n",
       "    </tr>\n",
       "    <tr>\n",
       "      <th>2</th>\n",
       "      <td>1</td>\n",
       "      <td>914</td>\n",
       "      <td>3</td>\n",
       "      <td>978301968</td>\n",
       "    </tr>\n",
       "    <tr>\n",
       "      <th>3</th>\n",
       "      <td>1</td>\n",
       "      <td>3408</td>\n",
       "      <td>4</td>\n",
       "      <td>978300275</td>\n",
       "    </tr>\n",
       "    <tr>\n",
       "      <th>4</th>\n",
       "      <td>1</td>\n",
       "      <td>2355</td>\n",
       "      <td>5</td>\n",
       "      <td>978824291</td>\n",
       "    </tr>\n",
       "  </tbody>\n",
       "</table>\n",
       "</div>"
      ],
      "text/plain": [
       "   user_id  movie_id  rating  timestamp\n",
       "0        1      1193       5  978300760\n",
       "1        1       661       3  978302109\n",
       "2        1       914       3  978301968\n",
       "3        1      3408       4  978300275\n",
       "4        1      2355       5  978824291"
      ]
     },
     "execution_count": 6,
     "metadata": {},
     "output_type": "execute_result"
    }
   ],
   "source": [
    "df = pd.read_csv('./data/ratings.dat', sep='::', header=None, engine='python')\n",
    "df.columns = ['user_id', 'movie_id', 'rating', 'timestamp']\n",
    "df.head()"
   ]
  },
  {
   "cell_type": "code",
   "execution_count": 7,
   "metadata": {},
   "outputs": [
    {
     "data": {
      "text/plain": [
       "(1000209, 4)"
      ]
     },
     "execution_count": 7,
     "metadata": {},
     "output_type": "execute_result"
    }
   ],
   "source": [
    "df.shape"
   ]
  },
  {
   "cell_type": "code",
   "execution_count": 8,
   "metadata": {},
   "outputs": [
    {
     "data": {
      "text/plain": [
       "6040"
      ]
     },
     "execution_count": 8,
     "metadata": {},
     "output_type": "execute_result"
    }
   ],
   "source": [
    "all_user_cnt = len(df.user_id.unique())\n",
    "all_user_cnt"
   ]
  },
  {
   "cell_type": "code",
   "execution_count": 9,
   "metadata": {},
   "outputs": [
    {
     "data": {
      "text/plain": [
       "3706"
      ]
     },
     "execution_count": 9,
     "metadata": {},
     "output_type": "execute_result"
    }
   ],
   "source": [
    "all_movies = set(df.movie_id.unique())\n",
    "all_movie_cnt = len(all_movies)\n",
    "all_movie_cnt"
   ]
  },
  {
   "cell_type": "markdown",
   "metadata": {},
   "source": [
    "### Train test slipt"
   ]
  },
  {
   "cell_type": "code",
   "execution_count": 10,
   "metadata": {},
   "outputs": [],
   "source": [
    "X, y = df[['user_id', 'movie_id']].values, df['rating'].values\n",
    "X_train, X_test, y_train, y_test = train_test_split(X, y, test_size=1/8, random_state=0)"
   ]
  },
  {
   "cell_type": "code",
   "execution_count": 11,
   "metadata": {},
   "outputs": [
    {
     "name": "stdout",
     "output_type": "stream",
     "text": [
      "(875182, 2) (875182,) (125027, 2) (125027,)\n"
     ]
    }
   ],
   "source": [
    "print(X_train.shape, y_train.shape, X_test.shape, y_test.shape)"
   ]
  },
  {
   "cell_type": "code",
   "execution_count": 12,
   "metadata": {},
   "outputs": [],
   "source": [
    "movie_popularity = defaultdict(int)\n",
    "for _, m_id in X_train:\n",
    "    movie_popularity[m_id] += 1"
   ]
  },
  {
   "cell_type": "code",
   "execution_count": 13,
   "metadata": {},
   "outputs": [
    {
     "data": {
      "image/png": "[encoded data removed]",
      "text/plain": [
       "<Figure size 432x288 with 1 Axes>"
      ]
     },
     "metadata": {
      "needs_background": "light"
     },
     "output_type": "display_data"
    }
   ],
   "source": [
    "sorted_movie_popularity = sorted(movie_popularity.items(), key=lambda x: x[1], reverse=True)\n",
    "plt.plot(list(map(lambda x: x[1], sorted_movie_popularity)), linewidth=3)\n",
    "plt.title('Movie popularity')\n",
    "plt.ylabel('Popularity')\n",
    "plt.xlabel('Movie')\n",
    "plt.show()"
   ]
  },
  {
   "cell_type": "markdown",
   "metadata": {},
   "source": [
    "## LFM\n",
    "Just consider the interaction but not rating"
   ]
  },
  {
   "cell_type": "code",
   "execution_count": 14,
   "metadata": {},
   "outputs": [],
   "source": [
    "# 统计User交互过的Movie，存储为Set\n",
    "def get_user_movies(data):\n",
    "    user_movies = defaultdict(set)\n",
    "    for u_id, m_id in data:\n",
    "        user_movies[u_id].add(m_id)\n",
    "    return user_movies"
   ]
  },
  {
   "cell_type": "code",
   "execution_count": 15,
   "metadata": {},
   "outputs": [],
   "source": [
    "user_movies_train = get_user_movies(X_train)\n",
    "user_movies_test = get_user_movies(X_test)"
   ]
  },
  {
   "cell_type": "markdown",
   "metadata": {},
   "source": [
    "### LFM"
   ]
  },
  {
   "cell_type": "code",
   "execution_count": 18,
   "metadata": {},
   "outputs": [],
   "source": [
    "class LatentFactorModel:\n",
    "    def __init__(self, K, alpha, beta, ratio):\n",
    "        self.K = K  # Latent vector size\n",
    "        self.alpha = alpha  # learning ratio\n",
    "        self.beta = beta  # regularization factor\n",
    "        self.ratio = ratio  # negetive sample/positive sample\n",
    "        self.P = {}\n",
    "        self.Q = {}\n",
    "    \n",
    "    def init_model(self, user_movies):\n",
    "        for u_id, u_movies in user_movies.items():\n",
    "            if u_id not in self.P:\n",
    "                self.P[u_id] = np.random.rand(self.K)\n",
    "            for m_id in u_movies:\n",
    "                if m_id not in self.Q:\n",
    "                    self.Q[m_id] = np.random.rand(self.K)\n",
    "    \n",
    "    def calc_loss(self, user_movies, movie_popularity):\n",
    "        loss = 0\n",
    "        for u_id, u_movies in user_movies.items():\n",
    "            data = self.sample_data(u_id, u_movies, movie_popularity)\n",
    "            for u_id, m_id, rui in data:\n",
    "                loss += np.square(rui - np.dot(self.P[u_id], self.Q[m_id])) + self.beta * np.sum(np.square(self.P[u_id]) + np.square(self.Q[m_id]))\n",
    "        return loss / len(user_movies)\n",
    "    \n",
    "    def sample_data(self, u_id, u_movies, movie_popularity):\n",
    "        all_movies = set(movie_popularity.keys())\n",
    "        pos_movies = u_movies\n",
    "        # negetive sample\n",
    "        all_neg_movies = list(all_movies - pos_movies)\n",
    "        neg_movies = np.random.choice(all_neg_movies, size=int(self.ratio * len(pos_movies)), replace=True, p=None)\n",
    "        \n",
    "        # generate data\n",
    "        data = []\n",
    "        for m_id in pos_movies:\n",
    "            data.append((u_id, m_id, 1))\n",
    "        for m_id in neg_movies:\n",
    "            data.append((u_id, m_id, 0))\n",
    "        np.random.shuffle(data)\n",
    "        return data\n",
    "    \n",
    "    def train(self, user_movies, movie_popularity, epoch):\n",
    "        self.init_model(user_movies)\n",
    "        alpha = self.alpha\n",
    "        for t in range(epoch):\n",
    "            for u_id, u_movies in tqdm(user_movies.items()):\n",
    "                data = self.sample_data(u_id, u_movies, movie_popularity)\n",
    "                for u_id, m_id, rui in data:\n",
    "                    eui = rui - np.dot(self.P[u_id], self.Q[m_id])\n",
    "                    self.P[u_id] += alpha * (eui * self.Q[m_id] - self.beta * self.P[u_id])\n",
    "                    self.Q[m_id] += alpha * (eui * self.P[u_id] - self.beta * self.Q[m_id])\n",
    "            alpha *= 0.9\n",
    "            #print('epoch:{}, lr:{}, loss:{}'.format(t, alpha, self.calc_loss(user_movies, movie_popularity)))\n",
    "            print('epoch:{}, lr:{}'.format(t, alpha))\n",
    "    \n",
    "    def recommend(self, u_id, user_movies):\n",
    "        res = defaultdict(float)\n",
    "        u_movies = user_movies[u_id]\n",
    "        u_vec = self.P[u_id]\n",
    "        for m_id in self.Q:\n",
    "            if m_id not in u_movies:\n",
    "                m_vec = self.Q[m_id]\n",
    "                res[m_id] = np.dot(u_vec, m_vec)\n",
    "        return list(map(lambda x: x[0], sorted(res.items(), key=lambda x: x[1], reverse=True)))"
   ]
  },
  {
   "cell_type": "markdown",
   "metadata": {},
   "source": [
    "## Evaluate"
   ]
  },
  {
   "cell_type": "code",
   "execution_count": 19,
   "metadata": {},
   "outputs": [],
   "source": [
    "# precision, recall, coverage\n",
    "def calc_metrics(user_movies, user_movies_reco, all_movie_cnt, n=None):\n",
    "    label_all, reco_all, hit = 0, 0, 0\n",
    "    all_movies_reco = []\n",
    "    for u_id in user_movies:\n",
    "        label_movies = user_movies[u_id]\n",
    "        reco_movies = user_movies_reco[u_id][:n] if n else user_movies_reco[u_id]\n",
    "        all_movies_reco += reco_movies\n",
    "        reco_movies = set(reco_movies)\n",
    "        label_all += len(label_movies)\n",
    "        reco_all += len(reco_movies)\n",
    "        hit += len(label_movies & reco_movies)\n",
    "    return {\n",
    "        'precision': hit / reco_all,\n",
    "        'recall': hit / label_all,\n",
    "        'coverage': len(set(all_movies_reco)) / all_movie_cnt\n",
    "    }"
   ]
  },
  {
   "cell_type": "code",
   "execution_count": 20,
   "metadata": {},
   "outputs": [
    {
     "name": "stderr",
     "output_type": "stream",
     "text": [
      "100%|██████████| 6040/6040 [02:29<00:00, 40.38it/s] \n",
      "  0%|          | 4/6040 [00:00<02:48, 35.81it/s]"
     ]
    },
    {
     "name": "stdout",
     "output_type": "stream",
     "text": [
      "epoch:0, lr:0.018000000000000002\n"
     ]
    },
    {
     "name": "stderr",
     "output_type": "stream",
     "text": [
      "100%|██████████| 6040/6040 [02:25<00:00, 41.50it/s] \n",
      "  0%|          | 4/6040 [00:00<02:36, 38.55it/s]"
     ]
    },
    {
     "name": "stdout",
     "output_type": "stream",
     "text": [
      "epoch:1, lr:0.016200000000000003\n"
     ]
    },
    {
     "name": "stderr",
     "output_type": "stream",
     "text": [
      "100%|██████████| 6040/6040 [02:26<00:00, 41.31it/s] \n",
      "  0%|          | 4/6040 [00:00<02:42, 37.14it/s]"
     ]
    },
    {
     "name": "stdout",
     "output_type": "stream",
     "text": [
      "epoch:2, lr:0.014580000000000003\n"
     ]
    },
    {
     "name": "stderr",
     "output_type": "stream",
     "text": [
      "100%|██████████| 6040/6040 [02:29<00:00, 40.43it/s] \n",
      "  0%|          | 4/6040 [00:00<02:40, 37.52it/s]"
     ]
    },
    {
     "name": "stdout",
     "output_type": "stream",
     "text": [
      "epoch:3, lr:0.013122000000000003\n"
     ]
    },
    {
     "name": "stderr",
     "output_type": "stream",
     "text": [
      "100%|██████████| 6040/6040 [02:30<00:00, 40.15it/s] \n",
      "  0%|          | 4/6040 [00:00<02:38, 38.19it/s]"
     ]
    },
    {
     "name": "stdout",
     "output_type": "stream",
     "text": [
      "epoch:4, lr:0.011809800000000004\n"
     ]
    },
    {
     "name": "stderr",
     "output_type": "stream",
     "text": [
      "100%|██████████| 6040/6040 [02:32<00:00, 39.62it/s] \n",
      "  0%|          | 4/6040 [00:00<03:21, 29.93it/s]"
     ]
    },
    {
     "name": "stdout",
     "output_type": "stream",
     "text": [
      "epoch:5, lr:0.010628820000000004\n"
     ]
    },
    {
     "name": "stderr",
     "output_type": "stream",
     "text": [
      "100%|██████████| 6040/6040 [02:30<00:00, 40.11it/s] \n",
      "  0%|          | 4/6040 [00:00<02:39, 37.93it/s]"
     ]
    },
    {
     "name": "stdout",
     "output_type": "stream",
     "text": [
      "epoch:6, lr:0.009565938000000005\n"
     ]
    },
    {
     "name": "stderr",
     "output_type": "stream",
     "text": [
      "100%|██████████| 6040/6040 [02:29<00:00, 40.52it/s] \n",
      "  0%|          | 4/6040 [00:00<02:56, 34.27it/s]"
     ]
    },
    {
     "name": "stdout",
     "output_type": "stream",
     "text": [
      "epoch:7, lr:0.008609344200000004\n"
     ]
    },
    {
     "name": "stderr",
     "output_type": "stream",
     "text": [
      "100%|██████████| 6040/6040 [02:30<00:00, 40.16it/s] \n",
      "  0%|          | 4/6040 [00:00<02:38, 38.20it/s]"
     ]
    },
    {
     "name": "stdout",
     "output_type": "stream",
     "text": [
      "epoch:8, lr:0.007748409780000004\n"
     ]
    },
    {
     "name": "stderr",
     "output_type": "stream",
     "text": [
      "100%|██████████| 6040/6040 [02:28<00:00, 40.56it/s] \n",
      "  0%|          | 6/6040 [00:00<05:08, 19.55it/s]"
     ]
    },
    {
     "name": "stdout",
     "output_type": "stream",
     "text": [
      "epoch:9, lr:0.006973568802000004\n"
     ]
    },
    {
     "name": "stderr",
     "output_type": "stream",
     "text": [
      "100%|██████████| 6040/6040 [02:23<00:00, 41.99it/s] \n",
      "  0%|          | 4/6040 [00:00<02:41, 37.40it/s]"
     ]
    },
    {
     "name": "stdout",
     "output_type": "stream",
     "text": [
      "epoch:10, lr:0.006276211921800004\n"
     ]
    },
    {
     "name": "stderr",
     "output_type": "stream",
     "text": [
      "100%|██████████| 6040/6040 [02:24<00:00, 41.81it/s] \n",
      "  0%|          | 4/6040 [00:00<02:46, 36.15it/s]"
     ]
    },
    {
     "name": "stdout",
     "output_type": "stream",
     "text": [
      "epoch:11, lr:0.0056485907296200035\n"
     ]
    },
    {
     "name": "stderr",
     "output_type": "stream",
     "text": [
      "100%|██████████| 6040/6040 [02:24<00:00, 41.83it/s] \n",
      "  0%|          | 4/6040 [00:00<03:07, 32.17it/s]"
     ]
    },
    {
     "name": "stdout",
     "output_type": "stream",
     "text": [
      "epoch:12, lr:0.005083731656658003\n"
     ]
    },
    {
     "name": "stderr",
     "output_type": "stream",
     "text": [
      "100%|██████████| 6040/6040 [02:28<00:00, 40.77it/s] \n",
      "  0%|          | 5/6040 [00:00<03:12, 31.33it/s]"
     ]
    },
    {
     "name": "stdout",
     "output_type": "stream",
     "text": [
      "epoch:13, lr:0.004575358490992203\n"
     ]
    },
    {
     "name": "stderr",
     "output_type": "stream",
     "text": [
      "100%|██████████| 6040/6040 [02:28<00:00, 40.66it/s] \n",
      "  0%|          | 4/6040 [00:00<02:38, 38.19it/s]"
     ]
    },
    {
     "name": "stdout",
     "output_type": "stream",
     "text": [
      "epoch:14, lr:0.004117822641892983\n"
     ]
    },
    {
     "name": "stderr",
     "output_type": "stream",
     "text": [
      "100%|██████████| 6040/6040 [02:30<00:00, 40.19it/s] \n",
      "  0%|          | 4/6040 [00:00<03:01, 33.25it/s]"
     ]
    },
    {
     "name": "stdout",
     "output_type": "stream",
     "text": [
      "epoch:15, lr:0.003706040377703685\n"
     ]
    },
    {
     "name": "stderr",
     "output_type": "stream",
     "text": [
      "100%|██████████| 6040/6040 [02:30<00:00, 40.04it/s] \n",
      "  0%|          | 4/6040 [00:00<02:54, 34.57it/s]"
     ]
    },
    {
     "name": "stdout",
     "output_type": "stream",
     "text": [
      "epoch:16, lr:0.0033354363399333165\n"
     ]
    },
    {
     "name": "stderr",
     "output_type": "stream",
     "text": [
      "100%|██████████| 6040/6040 [02:28<00:00, 40.54it/s] \n",
      "  0%|          | 4/6040 [00:00<03:26, 29.27it/s]"
     ]
    },
    {
     "name": "stdout",
     "output_type": "stream",
     "text": [
      "epoch:17, lr:0.0030018927059399848\n"
     ]
    },
    {
     "name": "stderr",
     "output_type": "stream",
     "text": [
      "100%|██████████| 6040/6040 [02:27<00:00, 40.82it/s] \n",
      "  0%|          | 4/6040 [00:00<02:38, 38.20it/s]"
     ]
    },
    {
     "name": "stdout",
     "output_type": "stream",
     "text": [
      "epoch:18, lr:0.0027017034353459864\n"
     ]
    },
    {
     "name": "stderr",
     "output_type": "stream",
     "text": [
      "100%|██████████| 6040/6040 [02:28<00:00, 40.62it/s] \n"
     ]
    },
    {
     "name": "stdout",
     "output_type": "stream",
     "text": [
      "epoch:19, lr:0.002431533091811388\n"
     ]
    },
    {
     "data": {
      "text/plain": [
       "{'precision': 0.26579429904984164,\n",
       " 'recall': 0.12753245299015412,\n",
       " 'coverage': 0.18213707501349163}"
      ]
     },
     "execution_count": 20,
     "metadata": {},
     "output_type": "execute_result"
    }
   ],
   "source": [
    "model = LatentFactorModel(K=100, alpha=0.02, beta=0.01, ratio=10)\n",
    "model.train(user_movies_train, movie_popularity, 20)\n",
    "# recommend\n",
    "user_movies_reco = {}\n",
    "for u_id in user_movies_test:\n",
    "    user_movies_reco[u_id] = model.recommend(u_id, user_movies_train)\n",
    "# evaluate\n",
    "calc_metrics(user_movies_test, user_movies_reco, all_movie_cnt, n=10)"
   ]
  },
  {
   "cell_type": "markdown",
   "metadata": {},
   "source": [
    "### different ratio"
   ]
  },
  {
   "cell_type": "code",
   "execution_count": 15,
   "metadata": {},
   "outputs": [
    {
     "name": "stderr",
     "output_type": "stream",
     "text": [
      "100%|██████████| 6040/6040 [00:26<00:00, 227.42it/s]\n",
      "  0%|          | 10/6040 [00:00<01:04, 93.92it/s]"
     ]
    },
    {
     "name": "stdout",
     "output_type": "stream",
     "text": [
      "epoch:0, lr:0.018000000000000002\n"
     ]
    },
    {
     "name": "stderr",
     "output_type": "stream",
     "text": [
      "100%|██████████| 6040/6040 [00:26<00:00, 231.15it/s]\n",
      "  0%|          | 10/6040 [00:00<01:05, 91.47it/s]"
     ]
    },
    {
     "name": "stdout",
     "output_type": "stream",
     "text": [
      "epoch:1, lr:0.016200000000000003\n"
     ]
    },
    {
     "name": "stderr",
     "output_type": "stream",
     "text": [
      "100%|██████████| 6040/6040 [00:26<00:00, 226.07it/s]\n",
      "  0%|          | 10/6040 [00:00<01:05, 92.52it/s]"
     ]
    },
    {
     "name": "stdout",
     "output_type": "stream",
     "text": [
      "epoch:2, lr:0.014580000000000003\n"
     ]
    },
    {
     "name": "stderr",
     "output_type": "stream",
     "text": [
      "100%|██████████| 6040/6040 [00:27<00:00, 219.16it/s]\n",
      "  0%|          | 23/6040 [00:00<00:58, 103.64it/s]"
     ]
    },
    {
     "name": "stdout",
     "output_type": "stream",
     "text": [
      "epoch:3, lr:0.013122000000000003\n"
     ]
    },
    {
     "name": "stderr",
     "output_type": "stream",
     "text": [
      "100%|██████████| 6040/6040 [00:27<00:00, 216.90it/s]\n",
      "  0%|          | 23/6040 [00:00<00:57, 103.88it/s]"
     ]
    },
    {
     "name": "stdout",
     "output_type": "stream",
     "text": [
      "epoch:4, lr:0.011809800000000004\n"
     ]
    },
    {
     "name": "stderr",
     "output_type": "stream",
     "text": [
      "100%|██████████| 6040/6040 [00:26<00:00, 228.50it/s]\n",
      "  0%|          | 22/6040 [00:00<00:57, 104.02it/s]"
     ]
    },
    {
     "name": "stdout",
     "output_type": "stream",
     "text": [
      "epoch:5, lr:0.010628820000000004\n"
     ]
    },
    {
     "name": "stderr",
     "output_type": "stream",
     "text": [
      "100%|██████████| 6040/6040 [00:26<00:00, 224.68it/s]\n",
      "  0%|          | 10/6040 [00:00<01:07, 89.88it/s]"
     ]
    },
    {
     "name": "stdout",
     "output_type": "stream",
     "text": [
      "epoch:6, lr:0.009565938000000005\n"
     ]
    },
    {
     "name": "stderr",
     "output_type": "stream",
     "text": [
      "100%|██████████| 6040/6040 [00:26<00:00, 228.96it/s]\n",
      "  0%|          | 10/6040 [00:00<01:03, 94.82it/s]"
     ]
    },
    {
     "name": "stdout",
     "output_type": "stream",
     "text": [
      "epoch:7, lr:0.008609344200000004\n"
     ]
    },
    {
     "name": "stderr",
     "output_type": "stream",
     "text": [
      "100%|██████████| 6040/6040 [00:26<00:00, 230.02it/s]\n",
      "  0%|          | 22/6040 [00:00<01:00, 99.20it/s]"
     ]
    },
    {
     "name": "stdout",
     "output_type": "stream",
     "text": [
      "epoch:8, lr:0.007748409780000004\n"
     ]
    },
    {
     "name": "stderr",
     "output_type": "stream",
     "text": [
      "100%|██████████| 6040/6040 [00:26<00:00, 230.77it/s]\n",
      "  0%|          | 23/6040 [00:00<00:59, 101.14it/s]"
     ]
    },
    {
     "name": "stdout",
     "output_type": "stream",
     "text": [
      "epoch:9, lr:0.006973568802000004\n"
     ]
    },
    {
     "name": "stderr",
     "output_type": "stream",
     "text": [
      "100%|██████████| 6040/6040 [00:26<00:00, 229.82it/s]\n",
      "  0%|          | 10/6040 [00:00<01:03, 94.86it/s]"
     ]
    },
    {
     "name": "stdout",
     "output_type": "stream",
     "text": [
      "epoch:10, lr:0.006276211921800004\n"
     ]
    },
    {
     "name": "stderr",
     "output_type": "stream",
     "text": [
      "100%|██████████| 6040/6040 [00:26<00:00, 231.03it/s]\n",
      "  0%|          | 10/6040 [00:00<01:04, 93.16it/s]"
     ]
    },
    {
     "name": "stdout",
     "output_type": "stream",
     "text": [
      "epoch:11, lr:0.0056485907296200035\n"
     ]
    },
    {
     "name": "stderr",
     "output_type": "stream",
     "text": [
      "100%|██████████| 6040/6040 [00:26<00:00, 229.88it/s]\n",
      "  0%|          | 10/6040 [00:00<01:06, 90.43it/s]"
     ]
    },
    {
     "name": "stdout",
     "output_type": "stream",
     "text": [
      "epoch:12, lr:0.005083731656658003\n"
     ]
    },
    {
     "name": "stderr",
     "output_type": "stream",
     "text": [
      "100%|██████████| 6040/6040 [00:26<00:00, 231.42it/s]\n",
      "  0%|          | 10/6040 [00:00<01:04, 93.71it/s]"
     ]
    },
    {
     "name": "stdout",
     "output_type": "stream",
     "text": [
      "epoch:13, lr:0.004575358490992203\n"
     ]
    },
    {
     "name": "stderr",
     "output_type": "stream",
     "text": [
      "100%|██████████| 6040/6040 [00:26<00:00, 231.34it/s]\n",
      "  0%|          | 10/6040 [00:00<01:04, 93.29it/s]"
     ]
    },
    {
     "name": "stdout",
     "output_type": "stream",
     "text": [
      "epoch:14, lr:0.004117822641892983\n"
     ]
    },
    {
     "name": "stderr",
     "output_type": "stream",
     "text": [
      "100%|██████████| 6040/6040 [00:26<00:00, 229.88it/s]\n",
      "  0%|          | 10/6040 [00:00<01:02, 97.13it/s]"
     ]
    },
    {
     "name": "stdout",
     "output_type": "stream",
     "text": [
      "epoch:15, lr:0.003706040377703685\n"
     ]
    },
    {
     "name": "stderr",
     "output_type": "stream",
     "text": [
      "100%|██████████| 6040/6040 [00:26<00:00, 231.70it/s]\n",
      "  0%|          | 23/6040 [00:00<00:59, 101.46it/s]"
     ]
    },
    {
     "name": "stdout",
     "output_type": "stream",
     "text": [
      "epoch:16, lr:0.0033354363399333165\n"
     ]
    },
    {
     "name": "stderr",
     "output_type": "stream",
     "text": [
      "100%|██████████| 6040/6040 [00:25<00:00, 233.68it/s]\n",
      "  0%|          | 10/6040 [00:00<01:04, 93.75it/s]"
     ]
    },
    {
     "name": "stdout",
     "output_type": "stream",
     "text": [
      "epoch:17, lr:0.0030018927059399848\n"
     ]
    },
    {
     "name": "stderr",
     "output_type": "stream",
     "text": [
      "100%|██████████| 6040/6040 [00:26<00:00, 230.50it/s]\n",
      "  0%|          | 11/6040 [00:00<00:58, 102.85it/s]"
     ]
    },
    {
     "name": "stdout",
     "output_type": "stream",
     "text": [
      "epoch:18, lr:0.0027017034353459864\n"
     ]
    },
    {
     "name": "stderr",
     "output_type": "stream",
     "text": [
      "100%|██████████| 6040/6040 [00:26<00:00, 229.30it/s]\n"
     ]
    },
    {
     "name": "stdout",
     "output_type": "stream",
     "text": [
      "epoch:19, lr:0.002431533091811388\n"
     ]
    },
    {
     "name": "stderr",
     "output_type": "stream",
     "text": [
      "100%|██████████| 6040/6040 [00:37<00:00, 161.86it/s]\n",
      "  0%|          | 7/6040 [00:00<01:34, 63.76it/s]"
     ]
    },
    {
     "name": "stdout",
     "output_type": "stream",
     "text": [
      "epoch:0, lr:0.018000000000000002\n"
     ]
    },
    {
     "name": "stderr",
     "output_type": "stream",
     "text": [
      "100%|██████████| 6040/6040 [00:37<00:00, 160.33it/s]\n",
      "  0%|          | 7/6040 [00:00<01:43, 58.12it/s]"
     ]
    },
    {
     "name": "stdout",
     "output_type": "stream",
     "text": [
      "epoch:1, lr:0.016200000000000003\n"
     ]
    },
    {
     "name": "stderr",
     "output_type": "stream",
     "text": [
      "100%|██████████| 6040/6040 [00:37<00:00, 160.10it/s]\n",
      "  0%|          | 7/6040 [00:00<01:42, 59.12it/s]"
     ]
    },
    {
     "name": "stdout",
     "output_type": "stream",
     "text": [
      "epoch:2, lr:0.014580000000000003\n"
     ]
    },
    {
     "name": "stderr",
     "output_type": "stream",
     "text": [
      "100%|██████████| 6040/6040 [00:37<00:00, 161.73it/s]\n",
      "  0%|          | 7/6040 [00:00<01:46, 56.53it/s]"
     ]
    },
    {
     "name": "stdout",
     "output_type": "stream",
     "text": [
      "epoch:3, lr:0.013122000000000003\n"
     ]
    },
    {
     "name": "stderr",
     "output_type": "stream",
     "text": [
      "100%|██████████| 6040/6040 [00:37<00:00, 160.63it/s]\n",
      "  0%|          | 7/6040 [00:00<01:28, 68.45it/s]"
     ]
    },
    {
     "name": "stdout",
     "output_type": "stream",
     "text": [
      "epoch:4, lr:0.011809800000000004\n"
     ]
    },
    {
     "name": "stderr",
     "output_type": "stream",
     "text": [
      "100%|██████████| 6040/6040 [00:37<00:00, 160.73it/s]\n",
      "  0%|          | 7/6040 [00:00<01:38, 61.13it/s]"
     ]
    },
    {
     "name": "stdout",
     "output_type": "stream",
     "text": [
      "epoch:5, lr:0.010628820000000004\n"
     ]
    },
    {
     "name": "stderr",
     "output_type": "stream",
     "text": [
      "100%|██████████| 6040/6040 [00:37<00:00, 161.93it/s]\n",
      "  0%|          | 15/6040 [00:00<01:32, 65.09it/s]"
     ]
    },
    {
     "name": "stdout",
     "output_type": "stream",
     "text": [
      "epoch:6, lr:0.009565938000000005\n"
     ]
    },
    {
     "name": "stderr",
     "output_type": "stream",
     "text": [
      "100%|██████████| 6040/6040 [00:37<00:00, 160.79it/s]\n",
      "  0%|          | 8/6040 [00:00<01:16, 78.58it/s]"
     ]
    },
    {
     "name": "stdout",
     "output_type": "stream",
     "text": [
      "epoch:7, lr:0.008609344200000004\n"
     ]
    },
    {
     "name": "stderr",
     "output_type": "stream",
     "text": [
      "100%|██████████| 6040/6040 [00:37<00:00, 161.11it/s]\n",
      "  0%|          | 7/6040 [00:00<01:32, 65.26it/s]"
     ]
    },
    {
     "name": "stdout",
     "output_type": "stream",
     "text": [
      "epoch:8, lr:0.007748409780000004\n"
     ]
    },
    {
     "name": "stderr",
     "output_type": "stream",
     "text": [
      "100%|██████████| 6040/6040 [00:37<00:00, 161.65it/s]\n",
      "  0%|          | 16/6040 [00:00<01:22, 73.42it/s]"
     ]
    },
    {
     "name": "stdout",
     "output_type": "stream",
     "text": [
      "epoch:9, lr:0.006973568802000004\n"
     ]
    },
    {
     "name": "stderr",
     "output_type": "stream",
     "text": [
      "100%|██████████| 6040/6040 [00:37<00:00, 161.25it/s]\n",
      "  0%|          | 7/6040 [00:00<01:37, 61.57it/s]"
     ]
    },
    {
     "name": "stdout",
     "output_type": "stream",
     "text": [
      "epoch:10, lr:0.006276211921800004\n"
     ]
    },
    {
     "name": "stderr",
     "output_type": "stream",
     "text": [
      "100%|██████████| 6040/6040 [00:37<00:00, 160.50it/s]\n",
      "  0%|          | 15/6040 [00:00<01:23, 72.05it/s]"
     ]
    },
    {
     "name": "stdout",
     "output_type": "stream",
     "text": [
      "epoch:11, lr:0.0056485907296200035\n"
     ]
    },
    {
     "name": "stderr",
     "output_type": "stream",
     "text": [
      "100%|██████████| 6040/6040 [00:37<00:00, 162.08it/s]\n",
      "  0%|          | 7/6040 [00:00<01:37, 61.88it/s]"
     ]
    },
    {
     "name": "stdout",
     "output_type": "stream",
     "text": [
      "epoch:12, lr:0.005083731656658003\n"
     ]
    },
    {
     "name": "stderr",
     "output_type": "stream",
     "text": [
      "100%|██████████| 6040/6040 [00:37<00:00, 162.26it/s]\n",
      "  0%|          | 15/6040 [00:00<01:30, 66.90it/s]"
     ]
    },
    {
     "name": "stdout",
     "output_type": "stream",
     "text": [
      "epoch:13, lr:0.004575358490992203\n"
     ]
    },
    {
     "name": "stderr",
     "output_type": "stream",
     "text": [
      "100%|██████████| 6040/6040 [00:37<00:00, 162.68it/s]\n",
      "  0%|          | 7/6040 [00:00<01:36, 62.53it/s]"
     ]
    },
    {
     "name": "stdout",
     "output_type": "stream",
     "text": [
      "epoch:14, lr:0.004117822641892983\n"
     ]
    },
    {
     "name": "stderr",
     "output_type": "stream",
     "text": [
      "100%|██████████| 6040/6040 [00:37<00:00, 160.82it/s]\n",
      "  0%|          | 15/6040 [00:00<01:31, 65.80it/s]"
     ]
    },
    {
     "name": "stdout",
     "output_type": "stream",
     "text": [
      "epoch:15, lr:0.003706040377703685\n"
     ]
    },
    {
     "name": "stderr",
     "output_type": "stream",
     "text": [
      "100%|██████████| 6040/6040 [00:37<00:00, 161.34it/s]\n",
      "  0%|          | 15/6040 [00:00<01:31, 65.93it/s]"
     ]
    },
    {
     "name": "stdout",
     "output_type": "stream",
     "text": [
      "epoch:16, lr:0.0033354363399333165\n"
     ]
    },
    {
     "name": "stderr",
     "output_type": "stream",
     "text": [
      "100%|██████████| 6040/6040 [00:37<00:00, 160.74it/s]\n",
      "  0%|          | 15/6040 [00:00<01:32, 65.45it/s]"
     ]
    },
    {
     "name": "stdout",
     "output_type": "stream",
     "text": [
      "epoch:17, lr:0.0030018927059399848\n"
     ]
    },
    {
     "name": "stderr",
     "output_type": "stream",
     "text": [
      "100%|██████████| 6040/6040 [00:37<00:00, 162.05it/s]\n",
      "  0%|          | 15/6040 [00:00<01:25, 70.49it/s]"
     ]
    },
    {
     "name": "stdout",
     "output_type": "stream",
     "text": [
      "epoch:18, lr:0.0027017034353459864\n"
     ]
    },
    {
     "name": "stderr",
     "output_type": "stream",
     "text": [
      "100%|██████████| 6040/6040 [00:37<00:00, 161.24it/s]\n"
     ]
    },
    {
     "name": "stdout",
     "output_type": "stream",
     "text": [
      "epoch:19, lr:0.002431533091811388\n"
     ]
    },
    {
     "name": "stderr",
     "output_type": "stream",
     "text": [
      "100%|██████████| 6040/6040 [01:12<00:00, 82.92it/s] \n",
      "  0%|          | 5/6040 [00:00<02:00, 49.92it/s]"
     ]
    },
    {
     "name": "stdout",
     "output_type": "stream",
     "text": [
      "epoch:0, lr:0.018000000000000002\n"
     ]
    },
    {
     "name": "stderr",
     "output_type": "stream",
     "text": [
      "100%|██████████| 6040/6040 [01:13<00:00, 82.14it/s] \n",
      "  0%|          | 5/6040 [00:00<02:02, 49.36it/s]"
     ]
    },
    {
     "name": "stdout",
     "output_type": "stream",
     "text": [
      "epoch:1, lr:0.016200000000000003\n"
     ]
    },
    {
     "name": "stderr",
     "output_type": "stream",
     "text": [
      "100%|██████████| 6040/6040 [01:14<00:00, 81.57it/s] \n",
      "  0%|          | 7/6040 [00:00<03:28, 28.90it/s]"
     ]
    },
    {
     "name": "stdout",
     "output_type": "stream",
     "text": [
      "epoch:2, lr:0.014580000000000003\n"
     ]
    },
    {
     "name": "stderr",
     "output_type": "stream",
     "text": [
      "100%|██████████| 6040/6040 [01:14<00:00, 81.50it/s] \n",
      "  0%|          | 7/6040 [00:00<03:12, 31.36it/s]"
     ]
    },
    {
     "name": "stdout",
     "output_type": "stream",
     "text": [
      "epoch:3, lr:0.013122000000000003\n"
     ]
    },
    {
     "name": "stderr",
     "output_type": "stream",
     "text": [
      "100%|██████████| 6040/6040 [01:14<00:00, 81.55it/s] \n",
      "  0%|          | 5/6040 [00:00<02:09, 46.45it/s]"
     ]
    },
    {
     "name": "stdout",
     "output_type": "stream",
     "text": [
      "epoch:4, lr:0.011809800000000004\n"
     ]
    },
    {
     "name": "stderr",
     "output_type": "stream",
     "text": [
      "100%|██████████| 6040/6040 [01:14<00:00, 81.19it/s] \n",
      "  0%|          | 7/6040 [00:00<03:13, 31.15it/s]"
     ]
    },
    {
     "name": "stdout",
     "output_type": "stream",
     "text": [
      "epoch:5, lr:0.010628820000000004\n"
     ]
    },
    {
     "name": "stderr",
     "output_type": "stream",
     "text": [
      "100%|██████████| 6040/6040 [01:13<00:00, 81.66it/s] \n",
      "  0%|          | 5/6040 [00:00<02:02, 49.15it/s]"
     ]
    },
    {
     "name": "stdout",
     "output_type": "stream",
     "text": [
      "epoch:6, lr:0.009565938000000005\n"
     ]
    },
    {
     "name": "stderr",
     "output_type": "stream",
     "text": [
      "100%|██████████| 6040/6040 [01:14<00:00, 81.44it/s] \n",
      "  0%|          | 5/6040 [00:00<02:13, 45.04it/s]"
     ]
    },
    {
     "name": "stdout",
     "output_type": "stream",
     "text": [
      "epoch:7, lr:0.008609344200000004\n"
     ]
    },
    {
     "name": "stderr",
     "output_type": "stream",
     "text": [
      "100%|██████████| 6040/6040 [01:13<00:00, 81.67it/s] \n",
      "  0%|          | 5/6040 [00:00<02:02, 49.10it/s]"
     ]
    },
    {
     "name": "stdout",
     "output_type": "stream",
     "text": [
      "epoch:8, lr:0.007748409780000004\n"
     ]
    },
    {
     "name": "stderr",
     "output_type": "stream",
     "text": [
      "100%|██████████| 6040/6040 [01:14<00:00, 81.01it/s] \n",
      "  0%|          | 5/6040 [00:00<02:06, 47.78it/s]"
     ]
    },
    {
     "name": "stdout",
     "output_type": "stream",
     "text": [
      "epoch:9, lr:0.006973568802000004\n"
     ]
    },
    {
     "name": "stderr",
     "output_type": "stream",
     "text": [
      "100%|██████████| 6040/6040 [01:14<00:00, 81.32it/s] \n",
      "  0%|          | 5/6040 [00:00<02:04, 48.46it/s]"
     ]
    },
    {
     "name": "stdout",
     "output_type": "stream",
     "text": [
      "epoch:10, lr:0.006276211921800004\n"
     ]
    },
    {
     "name": "stderr",
     "output_type": "stream",
     "text": [
      "100%|██████████| 6040/6040 [01:14<00:00, 81.50it/s] \n",
      "  0%|          | 7/6040 [00:00<03:17, 30.52it/s]"
     ]
    },
    {
     "name": "stdout",
     "output_type": "stream",
     "text": [
      "epoch:11, lr:0.0056485907296200035\n"
     ]
    },
    {
     "name": "stderr",
     "output_type": "stream",
     "text": [
      "100%|██████████| 6040/6040 [01:14<00:00, 81.51it/s] \n",
      "  0%|          | 7/6040 [00:00<03:15, 30.89it/s]"
     ]
    },
    {
     "name": "stdout",
     "output_type": "stream",
     "text": [
      "epoch:12, lr:0.005083731656658003\n"
     ]
    },
    {
     "name": "stderr",
     "output_type": "stream",
     "text": [
      "100%|██████████| 6040/6040 [01:14<00:00, 81.51it/s] \n",
      "  0%|          | 5/6040 [00:00<02:01, 49.56it/s]"
     ]
    },
    {
     "name": "stdout",
     "output_type": "stream",
     "text": [
      "epoch:13, lr:0.004575358490992203\n"
     ]
    },
    {
     "name": "stderr",
     "output_type": "stream",
     "text": [
      "100%|██████████| 6040/6040 [01:14<00:00, 80.90it/s] \n",
      "  0%|          | 5/6040 [00:00<02:02, 49.07it/s]"
     ]
    },
    {
     "name": "stdout",
     "output_type": "stream",
     "text": [
      "epoch:14, lr:0.004117822641892983\n"
     ]
    },
    {
     "name": "stderr",
     "output_type": "stream",
     "text": [
      "100%|██████████| 6040/6040 [01:14<00:00, 81.02it/s] \n",
      "  0%|          | 5/6040 [00:00<02:14, 45.01it/s]"
     ]
    },
    {
     "name": "stdout",
     "output_type": "stream",
     "text": [
      "epoch:15, lr:0.003706040377703685\n"
     ]
    },
    {
     "name": "stderr",
     "output_type": "stream",
     "text": [
      "100%|██████████| 6040/6040 [01:14<00:00, 80.99it/s] \n",
      "  0%|          | 7/6040 [00:00<03:13, 31.21it/s]"
     ]
    },
    {
     "name": "stdout",
     "output_type": "stream",
     "text": [
      "epoch:16, lr:0.0033354363399333165\n"
     ]
    },
    {
     "name": "stderr",
     "output_type": "stream",
     "text": [
      "100%|██████████| 6040/6040 [01:14<00:00, 81.62it/s] \n",
      "  0%|          | 10/6040 [00:00<02:50, 35.35it/s]"
     ]
    },
    {
     "name": "stdout",
     "output_type": "stream",
     "text": [
      "epoch:17, lr:0.0030018927059399848\n"
     ]
    },
    {
     "name": "stderr",
     "output_type": "stream",
     "text": [
      "100%|██████████| 6040/6040 [01:14<00:00, 80.99it/s] \n",
      "  0%|          | 5/6040 [00:00<02:02, 49.31it/s]"
     ]
    },
    {
     "name": "stdout",
     "output_type": "stream",
     "text": [
      "epoch:18, lr:0.0027017034353459864\n"
     ]
    },
    {
     "name": "stderr",
     "output_type": "stream",
     "text": [
      "100%|██████████| 6040/6040 [01:14<00:00, 80.99it/s] \n"
     ]
    },
    {
     "name": "stdout",
     "output_type": "stream",
     "text": [
      "epoch:19, lr:0.002431533091811388\n"
     ]
    },
    {
     "name": "stderr",
     "output_type": "stream",
     "text": [
      "100%|██████████| 6040/6040 [02:14<00:00, 45.03it/s] \n",
      "  0%|          | 4/6040 [00:00<03:06, 32.40it/s]"
     ]
    },
    {
     "name": "stdout",
     "output_type": "stream",
     "text": [
      "epoch:0, lr:0.018000000000000002\n"
     ]
    },
    {
     "name": "stderr",
     "output_type": "stream",
     "text": [
      "100%|██████████| 6040/6040 [02:14<00:00, 44.79it/s] \n",
      "  0%|          | 4/6040 [00:00<02:50, 35.50it/s]"
     ]
    },
    {
     "name": "stdout",
     "output_type": "stream",
     "text": [
      "epoch:1, lr:0.016200000000000003\n"
     ]
    },
    {
     "name": "stderr",
     "output_type": "stream",
     "text": [
      "100%|██████████| 6040/6040 [02:14<00:00, 45.00it/s] \n",
      "  0%|          | 4/6040 [00:00<02:55, 34.34it/s]"
     ]
    },
    {
     "name": "stdout",
     "output_type": "stream",
     "text": [
      "epoch:2, lr:0.014580000000000003\n"
     ]
    },
    {
     "name": "stderr",
     "output_type": "stream",
     "text": [
      "100%|██████████| 6040/6040 [02:14<00:00, 45.05it/s] \n",
      "  0%|          | 6/6040 [00:00<04:37, 21.72it/s]"
     ]
    },
    {
     "name": "stdout",
     "output_type": "stream",
     "text": [
      "epoch:3, lr:0.013122000000000003\n"
     ]
    },
    {
     "name": "stderr",
     "output_type": "stream",
     "text": [
      "100%|██████████| 6040/6040 [02:14<00:00, 44.82it/s] \n",
      "  0%|          | 4/6040 [00:00<02:52, 35.05it/s]"
     ]
    },
    {
     "name": "stdout",
     "output_type": "stream",
     "text": [
      "epoch:4, lr:0.011809800000000004\n"
     ]
    },
    {
     "name": "stderr",
     "output_type": "stream",
     "text": [
      "100%|██████████| 6040/6040 [02:14<00:00, 44.95it/s] \n",
      "  0%|          | 4/6040 [00:00<03:06, 32.33it/s]"
     ]
    },
    {
     "name": "stdout",
     "output_type": "stream",
     "text": [
      "epoch:5, lr:0.010628820000000004\n"
     ]
    },
    {
     "name": "stderr",
     "output_type": "stream",
     "text": [
      "100%|██████████| 6040/6040 [02:14<00:00, 44.84it/s] \n",
      "  0%|          | 4/6040 [00:00<02:52, 34.91it/s]"
     ]
    },
    {
     "name": "stdout",
     "output_type": "stream",
     "text": [
      "epoch:6, lr:0.009565938000000005\n"
     ]
    },
    {
     "name": "stderr",
     "output_type": "stream",
     "text": [
      "100%|██████████| 6040/6040 [02:14<00:00, 44.81it/s] \n",
      "  0%|          | 4/6040 [00:00<02:55, 34.33it/s]"
     ]
    },
    {
     "name": "stdout",
     "output_type": "stream",
     "text": [
      "epoch:7, lr:0.008609344200000004\n"
     ]
    },
    {
     "name": "stderr",
     "output_type": "stream",
     "text": [
      "100%|██████████| 6040/6040 [02:14<00:00, 44.90it/s] \n",
      "  0%|          | 4/6040 [00:00<02:49, 35.66it/s]"
     ]
    },
    {
     "name": "stdout",
     "output_type": "stream",
     "text": [
      "epoch:8, lr:0.007748409780000004\n"
     ]
    },
    {
     "name": "stderr",
     "output_type": "stream",
     "text": [
      "100%|██████████| 6040/6040 [02:14<00:00, 44.80it/s] \n",
      "  0%|          | 4/6040 [00:00<02:48, 35.91it/s]"
     ]
    },
    {
     "name": "stdout",
     "output_type": "stream",
     "text": [
      "epoch:9, lr:0.006973568802000004\n"
     ]
    },
    {
     "name": "stderr",
     "output_type": "stream",
     "text": [
      "100%|██████████| 6040/6040 [02:15<00:00, 44.71it/s] \n",
      "  0%|          | 4/6040 [00:00<03:05, 32.51it/s]"
     ]
    },
    {
     "name": "stdout",
     "output_type": "stream",
     "text": [
      "epoch:10, lr:0.006276211921800004\n"
     ]
    },
    {
     "name": "stderr",
     "output_type": "stream",
     "text": [
      "100%|██████████| 6040/6040 [02:14<00:00, 44.98it/s] \n",
      "  0%|          | 4/6040 [00:00<03:09, 31.84it/s]"
     ]
    },
    {
     "name": "stdout",
     "output_type": "stream",
     "text": [
      "epoch:11, lr:0.0056485907296200035\n"
     ]
    },
    {
     "name": "stderr",
     "output_type": "stream",
     "text": [
      "100%|██████████| 6040/6040 [02:14<00:00, 44.81it/s] \n",
      "  0%|          | 4/6040 [00:00<03:02, 33.16it/s]"
     ]
    },
    {
     "name": "stdout",
     "output_type": "stream",
     "text": [
      "epoch:12, lr:0.005083731656658003\n"
     ]
    },
    {
     "name": "stderr",
     "output_type": "stream",
     "text": [
      "100%|██████████| 6040/6040 [02:14<00:00, 44.91it/s] \n",
      "  0%|          | 4/6040 [00:00<02:50, 35.45it/s]"
     ]
    },
    {
     "name": "stdout",
     "output_type": "stream",
     "text": [
      "epoch:13, lr:0.004575358490992203\n"
     ]
    },
    {
     "name": "stderr",
     "output_type": "stream",
     "text": [
      "100%|██████████| 6040/6040 [02:14<00:00, 44.99it/s] \n",
      "  0%|          | 6/6040 [00:00<04:31, 22.21it/s]"
     ]
    },
    {
     "name": "stdout",
     "output_type": "stream",
     "text": [
      "epoch:14, lr:0.004117822641892983\n"
     ]
    },
    {
     "name": "stderr",
     "output_type": "stream",
     "text": [
      "100%|██████████| 6040/6040 [02:14<00:00, 44.81it/s] \n",
      "  0%|          | 4/6040 [00:00<02:47, 36.11it/s]"
     ]
    },
    {
     "name": "stdout",
     "output_type": "stream",
     "text": [
      "epoch:15, lr:0.003706040377703685\n"
     ]
    },
    {
     "name": "stderr",
     "output_type": "stream",
     "text": [
      "100%|██████████| 6040/6040 [02:14<00:00, 45.01it/s] \n",
      "  0%|          | 4/6040 [00:00<02:52, 34.96it/s]"
     ]
    },
    {
     "name": "stdout",
     "output_type": "stream",
     "text": [
      "epoch:16, lr:0.0033354363399333165\n"
     ]
    },
    {
     "name": "stderr",
     "output_type": "stream",
     "text": [
      "100%|██████████| 6040/6040 [02:15<00:00, 44.73it/s] \n",
      "  0%|          | 4/6040 [00:00<03:03, 32.84it/s]"
     ]
    },
    {
     "name": "stdout",
     "output_type": "stream",
     "text": [
      "epoch:17, lr:0.0030018927059399848\n"
     ]
    },
    {
     "name": "stderr",
     "output_type": "stream",
     "text": [
      "100%|██████████| 6040/6040 [02:14<00:00, 44.90it/s] \n",
      "  0%|          | 6/6040 [00:00<04:53, 20.56it/s]"
     ]
    },
    {
     "name": "stdout",
     "output_type": "stream",
     "text": [
      "epoch:18, lr:0.0027017034353459864\n"
     ]
    },
    {
     "name": "stderr",
     "output_type": "stream",
     "text": [
      "100%|██████████| 6040/6040 [02:13<00:00, 45.18it/s] \n"
     ]
    },
    {
     "name": "stdout",
     "output_type": "stream",
     "text": [
      "epoch:19, lr:0.002431533091811388\n"
     ]
    },
    {
     "name": "stderr",
     "output_type": "stream",
     "text": [
      "100%|██████████| 6040/6040 [04:13<00:00, 23.82it/s] \n",
      "  0%|          | 2/6040 [00:00<06:17, 16.01it/s]"
     ]
    },
    {
     "name": "stdout",
     "output_type": "stream",
     "text": [
      "epoch:0, lr:0.018000000000000002\n"
     ]
    },
    {
     "name": "stderr",
     "output_type": "stream",
     "text": [
      "100%|██████████| 6040/6040 [04:15<00:00, 23.67it/s] \n",
      "  0%|          | 4/6040 [00:00<05:17, 18.98it/s]"
     ]
    },
    {
     "name": "stdout",
     "output_type": "stream",
     "text": [
      "epoch:1, lr:0.016200000000000003\n"
     ]
    },
    {
     "name": "stderr",
     "output_type": "stream",
     "text": [
      "100%|██████████| 6040/6040 [04:14<00:00, 23.73it/s] \n",
      "  0%|          | 2/6040 [00:00<05:38, 17.82it/s]"
     ]
    },
    {
     "name": "stdout",
     "output_type": "stream",
     "text": [
      "epoch:2, lr:0.014580000000000003\n"
     ]
    },
    {
     "name": "stderr",
     "output_type": "stream",
     "text": [
      "100%|██████████| 6040/6040 [04:14<00:00, 23.73it/s] \n",
      "  0%|          | 2/6040 [00:00<05:49, 17.29it/s]"
     ]
    },
    {
     "name": "stdout",
     "output_type": "stream",
     "text": [
      "epoch:3, lr:0.013122000000000003\n"
     ]
    },
    {
     "name": "stderr",
     "output_type": "stream",
     "text": [
      "100%|██████████| 6040/6040 [04:14<00:00, 23.78it/s] \n",
      "  0%|          | 2/6040 [00:00<05:46, 17.45it/s]"
     ]
    },
    {
     "name": "stdout",
     "output_type": "stream",
     "text": [
      "epoch:4, lr:0.011809800000000004\n"
     ]
    },
    {
     "name": "stderr",
     "output_type": "stream",
     "text": [
      "100%|██████████| 6040/6040 [04:14<00:00, 23.72it/s] \n",
      "  0%|          | 2/6040 [00:00<05:17, 19.04it/s]"
     ]
    },
    {
     "name": "stdout",
     "output_type": "stream",
     "text": [
      "epoch:5, lr:0.010628820000000004\n"
     ]
    },
    {
     "name": "stderr",
     "output_type": "stream",
     "text": [
      "100%|██████████| 6040/6040 [04:15<00:00, 23.68it/s] \n",
      "  0%|          | 4/6040 [00:00<05:20, 18.85it/s]"
     ]
    },
    {
     "name": "stdout",
     "output_type": "stream",
     "text": [
      "epoch:6, lr:0.009565938000000005\n"
     ]
    },
    {
     "name": "stderr",
     "output_type": "stream",
     "text": [
      "100%|██████████| 6040/6040 [04:14<00:00, 23.73it/s] \n",
      "  0%|          | 2/6040 [00:00<05:44, 17.51it/s]"
     ]
    },
    {
     "name": "stdout",
     "output_type": "stream",
     "text": [
      "epoch:7, lr:0.008609344200000004\n"
     ]
    },
    {
     "name": "stderr",
     "output_type": "stream",
     "text": [
      "100%|██████████| 6040/6040 [04:15<00:00, 23.69it/s] \n",
      "  0%|          | 4/6040 [00:00<05:18, 18.96it/s]"
     ]
    },
    {
     "name": "stdout",
     "output_type": "stream",
     "text": [
      "epoch:8, lr:0.007748409780000004\n"
     ]
    },
    {
     "name": "stderr",
     "output_type": "stream",
     "text": [
      "100%|██████████| 6040/6040 [04:14<00:00, 23.70it/s] \n",
      "  0%|          | 2/6040 [00:00<05:48, 17.34it/s]"
     ]
    },
    {
     "name": "stdout",
     "output_type": "stream",
     "text": [
      "epoch:9, lr:0.006973568802000004\n"
     ]
    },
    {
     "name": "stderr",
     "output_type": "stream",
     "text": [
      "100%|██████████| 6040/6040 [04:15<00:00, 23.63it/s] \n",
      "  0%|          | 2/6040 [00:00<05:18, 18.93it/s]"
     ]
    },
    {
     "name": "stdout",
     "output_type": "stream",
     "text": [
      "epoch:10, lr:0.006276211921800004\n"
     ]
    },
    {
     "name": "stderr",
     "output_type": "stream",
     "text": [
      "100%|██████████| 6040/6040 [04:14<00:00, 23.69it/s] \n",
      "  0%|          | 4/6040 [00:00<05:18, 18.97it/s]"
     ]
    },
    {
     "name": "stdout",
     "output_type": "stream",
     "text": [
      "epoch:11, lr:0.0056485907296200035\n"
     ]
    },
    {
     "name": "stderr",
     "output_type": "stream",
     "text": [
      "100%|██████████| 6040/6040 [04:15<00:00, 23.63it/s] \n",
      "  0%|          | 4/6040 [00:00<05:16, 19.07it/s]"
     ]
    },
    {
     "name": "stdout",
     "output_type": "stream",
     "text": [
      "epoch:12, lr:0.005083731656658003\n"
     ]
    },
    {
     "name": "stderr",
     "output_type": "stream",
     "text": [
      "100%|██████████| 6040/6040 [04:15<00:00, 23.68it/s] \n",
      "  0%|          | 2/6040 [00:00<05:27, 18.46it/s]"
     ]
    },
    {
     "name": "stdout",
     "output_type": "stream",
     "text": [
      "epoch:13, lr:0.004575358490992203\n"
     ]
    },
    {
     "name": "stderr",
     "output_type": "stream",
     "text": [
      "100%|██████████| 6040/6040 [04:15<00:00, 23.67it/s] \n",
      "  0%|          | 2/6040 [00:00<06:14, 16.12it/s]"
     ]
    },
    {
     "name": "stdout",
     "output_type": "stream",
     "text": [
      "epoch:14, lr:0.004117822641892983\n"
     ]
    },
    {
     "name": "stderr",
     "output_type": "stream",
     "text": [
      "100%|██████████| 6040/6040 [04:14<00:00, 23.73it/s] \n",
      "  0%|          | 4/6040 [00:00<05:23, 18.66it/s]"
     ]
    },
    {
     "name": "stdout",
     "output_type": "stream",
     "text": [
      "epoch:15, lr:0.003706040377703685\n"
     ]
    },
    {
     "name": "stderr",
     "output_type": "stream",
     "text": [
      "100%|██████████| 6040/6040 [04:15<00:00, 23.68it/s] \n",
      "  0%|          | 4/6040 [00:00<05:27, 18.43it/s]"
     ]
    },
    {
     "name": "stdout",
     "output_type": "stream",
     "text": [
      "epoch:16, lr:0.0033354363399333165\n"
     ]
    },
    {
     "name": "stderr",
     "output_type": "stream",
     "text": [
      "100%|██████████| 6040/6040 [04:16<00:00, 23.59it/s] \n",
      "  0%|          | 2/6040 [00:00<05:45, 17.48it/s]"
     ]
    },
    {
     "name": "stdout",
     "output_type": "stream",
     "text": [
      "epoch:17, lr:0.0030018927059399848\n"
     ]
    },
    {
     "name": "stderr",
     "output_type": "stream",
     "text": [
      "100%|██████████| 6040/6040 [04:14<00:00, 23.73it/s] \n",
      "  0%|          | 2/6040 [00:00<05:29, 18.34it/s]"
     ]
    },
    {
     "name": "stdout",
     "output_type": "stream",
     "text": [
      "epoch:18, lr:0.0027017034353459864\n"
     ]
    },
    {
     "name": "stderr",
     "output_type": "stream",
     "text": [
      "100%|██████████| 6040/6040 [04:15<00:00, 23.67it/s] \n"
     ]
    },
    {
     "name": "stdout",
     "output_type": "stream",
     "text": [
      "epoch:19, lr:0.002431533091811388\n"
     ]
    },
    {
     "data": {
      "text/html": [
       "<div>\n",
       "<style scoped>\n",
       "    .dataframe tbody tr th:only-of-type {\n",
       "        vertical-align: middle;\n",
       "    }\n",
       "\n",
       "    .dataframe tbody tr th {\n",
       "        vertical-align: top;\n",
       "    }\n",
       "\n",
       "    .dataframe thead th {\n",
       "        text-align: right;\n",
       "    }\n",
       "</style>\n",
       "<table border=\"1\" class=\"dataframe\">\n",
       "  <thead>\n",
       "    <tr style=\"text-align: right;\">\n",
       "      <th></th>\n",
       "      <th>1.0</th>\n",
       "      <th>2.0</th>\n",
       "      <th>5.0</th>\n",
       "      <th>10.0</th>\n",
       "      <th>20.0</th>\n",
       "    </tr>\n",
       "  </thead>\n",
       "  <tbody>\n",
       "    <tr>\n",
       "      <th>precision</th>\n",
       "      <td>0.178396</td>\n",
       "      <td>0.224854</td>\n",
       "      <td>0.257360</td>\n",
       "      <td>0.264327</td>\n",
       "      <td>0.252559</td>\n",
       "    </tr>\n",
       "    <tr>\n",
       "      <th>recall</th>\n",
       "      <td>0.085598</td>\n",
       "      <td>0.107889</td>\n",
       "      <td>0.123485</td>\n",
       "      <td>0.126829</td>\n",
       "      <td>0.121182</td>\n",
       "    </tr>\n",
       "    <tr>\n",
       "      <th>coverage</th>\n",
       "      <td>0.877226</td>\n",
       "      <td>0.424717</td>\n",
       "      <td>0.253103</td>\n",
       "      <td>0.180248</td>\n",
       "      <td>0.118726</td>\n",
       "    </tr>\n",
       "  </tbody>\n",
       "</table>\n",
       "</div>"
      ],
      "text/plain": [
       "               1.0       2.0       5.0       10.0      20.0\n",
       "precision  0.178396  0.224854  0.257360  0.264327  0.252559\n",
       "recall     0.085598  0.107889  0.123485  0.126829  0.121182\n",
       "coverage   0.877226  0.424717  0.253103  0.180248  0.118726"
      ]
     },
     "execution_count": 15,
     "metadata": {},
     "output_type": "execute_result"
    }
   ],
   "source": [
    "ratio_list = [1.0, 2.0, 5.0, 10.0, 20.0]\n",
    "metrics_ratio = {}\n",
    "\n",
    "for ratio in ratio_list:\n",
    "    model = LatentFactorModel(K=100, alpha=0.02, beta=0.01, ratio=ratio)\n",
    "    model.train(user_movies_train, movie_popularity, 20)\n",
    "    # recommend\n",
    "    user_movies_reco = {}\n",
    "    for u_id in user_movies_test:\n",
    "        user_movies_reco[u_id] = model.recommend(u_id, user_movies_train)\n",
    "    # evaluate\n",
    "    metrics_ratio[ratio] = calc_metrics(user_movies_test, user_movies_reco, all_movie_cnt, n=10)\n",
    "\n",
    "pd.DataFrame(metrics_ratio)"
   ]
  },
  {
   "cell_type": "markdown",
   "metadata": {},
   "source": [
    "### different epoch"
   ]
  },
  {
   "cell_type": "code",
   "execution_count": 16,
   "metadata": {},
   "outputs": [
    {
     "name": "stderr",
     "output_type": "stream",
     "text": [
      "100%|██████████| 6040/6040 [02:16<00:00, 44.41it/s] \n",
      "  0%|          | 4/6040 [00:00<02:53, 34.74it/s]"
     ]
    },
    {
     "name": "stdout",
     "output_type": "stream",
     "text": [
      "epoch:0, lr:0.018000000000000002\n"
     ]
    },
    {
     "name": "stderr",
     "output_type": "stream",
     "text": [
      "100%|██████████| 6040/6040 [02:15<00:00, 44.42it/s] \n",
      "  0%|          | 4/6040 [00:00<02:52, 34.90it/s]"
     ]
    },
    {
     "name": "stdout",
     "output_type": "stream",
     "text": [
      "epoch:1, lr:0.016200000000000003\n"
     ]
    },
    {
     "name": "stderr",
     "output_type": "stream",
     "text": [
      "100%|██████████| 6040/6040 [02:15<00:00, 44.61it/s] \n",
      "  0%|          | 4/6040 [00:00<02:51, 35.13it/s]"
     ]
    },
    {
     "name": "stdout",
     "output_type": "stream",
     "text": [
      "epoch:2, lr:0.014580000000000003\n"
     ]
    },
    {
     "name": "stderr",
     "output_type": "stream",
     "text": [
      "100%|██████████| 6040/6040 [02:16<00:00, 44.40it/s] \n",
      "  0%|          | 4/6040 [00:00<02:51, 35.17it/s]"
     ]
    },
    {
     "name": "stdout",
     "output_type": "stream",
     "text": [
      "epoch:3, lr:0.013122000000000003\n"
     ]
    },
    {
     "name": "stderr",
     "output_type": "stream",
     "text": [
      "100%|██████████| 6040/6040 [02:15<00:00, 44.64it/s] \n",
      "  0%|          | 4/6040 [00:00<02:53, 34.73it/s]"
     ]
    },
    {
     "name": "stdout",
     "output_type": "stream",
     "text": [
      "epoch:4, lr:0.011809800000000004\n"
     ]
    },
    {
     "name": "stderr",
     "output_type": "stream",
     "text": [
      "100%|██████████| 6040/6040 [02:15<00:00, 44.43it/s] \n",
      "  0%|          | 4/6040 [00:00<03:04, 32.76it/s]"
     ]
    },
    {
     "name": "stdout",
     "output_type": "stream",
     "text": [
      "epoch:5, lr:0.010628820000000004\n"
     ]
    },
    {
     "name": "stderr",
     "output_type": "stream",
     "text": [
      "100%|██████████| 6040/6040 [02:15<00:00, 44.62it/s] \n",
      "  0%|          | 4/6040 [00:00<02:52, 34.96it/s]"
     ]
    },
    {
     "name": "stdout",
     "output_type": "stream",
     "text": [
      "epoch:6, lr:0.009565938000000005\n"
     ]
    },
    {
     "name": "stderr",
     "output_type": "stream",
     "text": [
      "100%|██████████| 6040/6040 [02:15<00:00, 44.68it/s] \n",
      "  0%|          | 4/6040 [00:00<03:28, 28.90it/s]"
     ]
    },
    {
     "name": "stdout",
     "output_type": "stream",
     "text": [
      "epoch:7, lr:0.008609344200000004\n"
     ]
    },
    {
     "name": "stderr",
     "output_type": "stream",
     "text": [
      "100%|██████████| 6040/6040 [02:15<00:00, 44.54it/s] \n",
      "  0%|          | 4/6040 [00:00<03:03, 32.82it/s]"
     ]
    },
    {
     "name": "stdout",
     "output_type": "stream",
     "text": [
      "epoch:8, lr:0.007748409780000004\n"
     ]
    },
    {
     "name": "stderr",
     "output_type": "stream",
     "text": [
      "100%|██████████| 6040/6040 [02:15<00:00, 44.45it/s] \n"
     ]
    },
    {
     "name": "stdout",
     "output_type": "stream",
     "text": [
      "epoch:9, lr:0.006973568802000004\n"
     ]
    },
    {
     "name": "stderr",
     "output_type": "stream",
     "text": [
      "100%|██████████| 6040/6040 [02:15<00:00, 44.62it/s] \n",
      "  0%|          | 4/6040 [00:00<03:03, 32.85it/s]"
     ]
    },
    {
     "name": "stdout",
     "output_type": "stream",
     "text": [
      "epoch:0, lr:0.018000000000000002\n"
     ]
    },
    {
     "name": "stderr",
     "output_type": "stream",
     "text": [
      "100%|██████████| 6040/6040 [02:15<00:00, 44.59it/s] \n",
      "  0%|          | 4/6040 [00:00<03:03, 32.83it/s]"
     ]
    },
    {
     "name": "stdout",
     "output_type": "stream",
     "text": [
      "epoch:1, lr:0.016200000000000003\n"
     ]
    },
    {
     "name": "stderr",
     "output_type": "stream",
     "text": [
      "100%|██████████| 6040/6040 [02:16<00:00, 44.32it/s] \n",
      "  0%|          | 6/6040 [00:00<04:33, 22.08it/s]"
     ]
    },
    {
     "name": "stdout",
     "output_type": "stream",
     "text": [
      "epoch:2, lr:0.014580000000000003\n"
     ]
    },
    {
     "name": "stderr",
     "output_type": "stream",
     "text": [
      "100%|██████████| 6040/6040 [02:16<00:00, 44.37it/s] \n",
      "  0%|          | 4/6040 [00:00<03:08, 32.04it/s]"
     ]
    },
    {
     "name": "stdout",
     "output_type": "stream",
     "text": [
      "epoch:3, lr:0.013122000000000003\n"
     ]
    },
    {
     "name": "stderr",
     "output_type": "stream",
     "text": [
      "100%|██████████| 6040/6040 [02:16<00:00, 44.32it/s] \n",
      "  0%|          | 4/6040 [00:00<02:51, 35.20it/s]"
     ]
    },
    {
     "name": "stdout",
     "output_type": "stream",
     "text": [
      "epoch:4, lr:0.011809800000000004\n"
     ]
    },
    {
     "name": "stderr",
     "output_type": "stream",
     "text": [
      "100%|██████████| 6040/6040 [02:15<00:00, 44.62it/s] \n",
      "  0%|          | 4/6040 [00:00<03:09, 31.91it/s]"
     ]
    },
    {
     "name": "stdout",
     "output_type": "stream",
     "text": [
      "epoch:5, lr:0.010628820000000004\n"
     ]
    },
    {
     "name": "stderr",
     "output_type": "stream",
     "text": [
      "100%|██████████| 6040/6040 [02:16<00:00, 44.34it/s] \n",
      "  0%|          | 4/6040 [00:00<03:05, 32.51it/s]"
     ]
    },
    {
     "name": "stdout",
     "output_type": "stream",
     "text": [
      "epoch:6, lr:0.009565938000000005\n"
     ]
    },
    {
     "name": "stderr",
     "output_type": "stream",
     "text": [
      "100%|██████████| 6040/6040 [02:16<00:00, 44.41it/s] \n",
      "  0%|          | 4/6040 [00:00<03:20, 30.18it/s]"
     ]
    },
    {
     "name": "stdout",
     "output_type": "stream",
     "text": [
      "epoch:7, lr:0.008609344200000004\n"
     ]
    },
    {
     "name": "stderr",
     "output_type": "stream",
     "text": [
      "100%|██████████| 6040/6040 [02:16<00:00, 44.38it/s] \n",
      "  0%|          | 4/6040 [00:00<02:53, 34.88it/s]"
     ]
    },
    {
     "name": "stdout",
     "output_type": "stream",
     "text": [
      "epoch:8, lr:0.007748409780000004\n"
     ]
    },
    {
     "name": "stderr",
     "output_type": "stream",
     "text": [
      "100%|██████████| 6040/6040 [02:16<00:00, 44.29it/s] \n",
      "  0%|          | 4/6040 [00:00<03:08, 31.96it/s]"
     ]
    },
    {
     "name": "stdout",
     "output_type": "stream",
     "text": [
      "epoch:9, lr:0.006973568802000004\n"
     ]
    },
    {
     "name": "stderr",
     "output_type": "stream",
     "text": [
      "100%|██████████| 6040/6040 [02:15<00:00, 44.49it/s] \n",
      "  0%|          | 4/6040 [00:00<02:46, 36.16it/s]"
     ]
    },
    {
     "name": "stdout",
     "output_type": "stream",
     "text": [
      "epoch:10, lr:0.006276211921800004\n"
     ]
    },
    {
     "name": "stderr",
     "output_type": "stream",
     "text": [
      "100%|██████████| 6040/6040 [02:16<00:00, 44.38it/s] \n",
      "  0%|          | 4/6040 [00:00<02:53, 34.78it/s]"
     ]
    },
    {
     "name": "stdout",
     "output_type": "stream",
     "text": [
      "epoch:11, lr:0.0056485907296200035\n"
     ]
    },
    {
     "name": "stderr",
     "output_type": "stream",
     "text": [
      "100%|██████████| 6040/6040 [02:15<00:00, 44.62it/s] \n",
      "  0%|          | 4/6040 [00:00<02:54, 34.64it/s]"
     ]
    },
    {
     "name": "stdout",
     "output_type": "stream",
     "text": [
      "epoch:12, lr:0.005083731656658003\n"
     ]
    },
    {
     "name": "stderr",
     "output_type": "stream",
     "text": [
      "100%|██████████| 6040/6040 [02:15<00:00, 44.56it/s] \n",
      "  0%|          | 4/6040 [00:00<02:59, 33.68it/s]"
     ]
    },
    {
     "name": "stdout",
     "output_type": "stream",
     "text": [
      "epoch:13, lr:0.004575358490992203\n"
     ]
    },
    {
     "name": "stderr",
     "output_type": "stream",
     "text": [
      "100%|██████████| 6040/6040 [02:17<00:00, 44.08it/s] \n",
      "  0%|          | 4/6040 [00:00<02:51, 35.21it/s]"
     ]
    },
    {
     "name": "stdout",
     "output_type": "stream",
     "text": [
      "epoch:14, lr:0.004117822641892983\n"
     ]
    },
    {
     "name": "stderr",
     "output_type": "stream",
     "text": [
      "100%|██████████| 6040/6040 [02:16<00:00, 44.17it/s] \n",
      "  0%|          | 4/6040 [00:00<02:50, 35.33it/s]"
     ]
    },
    {
     "name": "stdout",
     "output_type": "stream",
     "text": [
      "epoch:15, lr:0.003706040377703685\n"
     ]
    },
    {
     "name": "stderr",
     "output_type": "stream",
     "text": [
      "100%|██████████| 6040/6040 [02:15<00:00, 44.45it/s] \n",
      "  0%|          | 4/6040 [00:00<02:55, 34.46it/s]"
     ]
    },
    {
     "name": "stdout",
     "output_type": "stream",
     "text": [
      "epoch:16, lr:0.0033354363399333165\n"
     ]
    },
    {
     "name": "stderr",
     "output_type": "stream",
     "text": [
      "100%|██████████| 6040/6040 [02:16<00:00, 44.35it/s] \n",
      "  0%|          | 4/6040 [00:00<03:05, 32.57it/s]"
     ]
    },
    {
     "name": "stdout",
     "output_type": "stream",
     "text": [
      "epoch:17, lr:0.0030018927059399848\n"
     ]
    },
    {
     "name": "stderr",
     "output_type": "stream",
     "text": [
      "100%|██████████| 6040/6040 [02:16<00:00, 44.39it/s] \n",
      "  0%|          | 6/6040 [00:00<04:36, 21.80it/s]"
     ]
    },
    {
     "name": "stdout",
     "output_type": "stream",
     "text": [
      "epoch:18, lr:0.0027017034353459864\n"
     ]
    },
    {
     "name": "stderr",
     "output_type": "stream",
     "text": [
      "100%|██████████| 6040/6040 [02:15<00:00, 44.44it/s] \n"
     ]
    },
    {
     "name": "stdout",
     "output_type": "stream",
     "text": [
      "epoch:19, lr:0.002431533091811388\n"
     ]
    },
    {
     "name": "stderr",
     "output_type": "stream",
     "text": [
      "100%|██████████| 6040/6040 [02:14<00:00, 44.81it/s] \n",
      "  0%|          | 4/6040 [00:00<03:03, 32.94it/s]"
     ]
    },
    {
     "name": "stdout",
     "output_type": "stream",
     "text": [
      "epoch:0, lr:0.018000000000000002\n"
     ]
    },
    {
     "name": "stderr",
     "output_type": "stream",
     "text": [
      "100%|██████████| 6040/6040 [02:15<00:00, 44.63it/s] \n",
      "  0%|          | 4/6040 [00:00<02:55, 34.48it/s]"
     ]
    },
    {
     "name": "stdout",
     "output_type": "stream",
     "text": [
      "epoch:1, lr:0.016200000000000003\n"
     ]
    },
    {
     "name": "stderr",
     "output_type": "stream",
     "text": [
      "100%|██████████| 6040/6040 [02:15<00:00, 44.72it/s] \n",
      "  0%|          | 4/6040 [00:00<02:54, 34.57it/s]"
     ]
    },
    {
     "name": "stdout",
     "output_type": "stream",
     "text": [
      "epoch:2, lr:0.014580000000000003\n"
     ]
    },
    {
     "name": "stderr",
     "output_type": "stream",
     "text": [
      "100%|██████████| 6040/6040 [02:14<00:00, 44.90it/s] \n",
      "  0%|          | 6/6040 [00:00<04:33, 22.10it/s]"
     ]
    },
    {
     "name": "stdout",
     "output_type": "stream",
     "text": [
      "epoch:3, lr:0.013122000000000003\n"
     ]
    },
    {
     "name": "stderr",
     "output_type": "stream",
     "text": [
      "100%|██████████| 6040/6040 [02:15<00:00, 44.67it/s] \n",
      "  0%|          | 4/6040 [00:00<02:41, 37.29it/s]"
     ]
    },
    {
     "name": "stdout",
     "output_type": "stream",
     "text": [
      "epoch:4, lr:0.011809800000000004\n"
     ]
    },
    {
     "name": "stderr",
     "output_type": "stream",
     "text": [
      "100%|██████████| 6040/6040 [02:15<00:00, 44.64it/s] \n",
      "  0%|          | 4/6040 [00:00<02:52, 34.92it/s]"
     ]
    },
    {
     "name": "stdout",
     "output_type": "stream",
     "text": [
      "epoch:5, lr:0.010628820000000004\n"
     ]
    },
    {
     "name": "stderr",
     "output_type": "stream",
     "text": [
      "100%|██████████| 6040/6040 [02:14<00:00, 44.78it/s] \n",
      "  0%|          | 4/6040 [00:00<02:49, 35.57it/s]"
     ]
    },
    {
     "name": "stdout",
     "output_type": "stream",
     "text": [
      "epoch:6, lr:0.009565938000000005\n"
     ]
    },
    {
     "name": "stderr",
     "output_type": "stream",
     "text": [
      "100%|██████████| 6040/6040 [02:14<00:00, 44.78it/s] \n",
      "  0%|          | 4/6040 [00:00<02:53, 34.84it/s]"
     ]
    },
    {
     "name": "stdout",
     "output_type": "stream",
     "text": [
      "epoch:7, lr:0.008609344200000004\n"
     ]
    },
    {
     "name": "stderr",
     "output_type": "stream",
     "text": [
      "100%|██████████| 6040/6040 [02:15<00:00, 44.60it/s] \n",
      "  0%|          | 4/6040 [00:00<02:53, 34.69it/s]"
     ]
    },
    {
     "name": "stdout",
     "output_type": "stream",
     "text": [
      "epoch:8, lr:0.007748409780000004\n"
     ]
    },
    {
     "name": "stderr",
     "output_type": "stream",
     "text": [
      "100%|██████████| 6040/6040 [02:14<00:00, 44.76it/s] \n",
      "  0%|          | 6/6040 [00:00<04:34, 22.01it/s]"
     ]
    },
    {
     "name": "stdout",
     "output_type": "stream",
     "text": [
      "epoch:9, lr:0.006973568802000004\n"
     ]
    },
    {
     "name": "stderr",
     "output_type": "stream",
     "text": [
      "100%|██████████| 6040/6040 [02:14<00:00, 44.75it/s] \n",
      "  0%|          | 4/6040 [00:00<02:53, 34.82it/s]"
     ]
    },
    {
     "name": "stdout",
     "output_type": "stream",
     "text": [
      "epoch:10, lr:0.006276211921800004\n"
     ]
    },
    {
     "name": "stderr",
     "output_type": "stream",
     "text": [
      "100%|██████████| 6040/6040 [02:15<00:00, 44.56it/s] \n",
      "  0%|          | 4/6040 [00:00<02:51, 35.10it/s]"
     ]
    },
    {
     "name": "stdout",
     "output_type": "stream",
     "text": [
      "epoch:11, lr:0.0056485907296200035\n"
     ]
    },
    {
     "name": "stderr",
     "output_type": "stream",
     "text": [
      "100%|██████████| 6040/6040 [02:14<00:00, 44.88it/s] \n",
      "  0%|          | 4/6040 [00:00<03:07, 32.26it/s]"
     ]
    },
    {
     "name": "stdout",
     "output_type": "stream",
     "text": [
      "epoch:12, lr:0.005083731656658003\n"
     ]
    },
    {
     "name": "stderr",
     "output_type": "stream",
     "text": [
      "100%|██████████| 6040/6040 [02:15<00:00, 44.63it/s] \n",
      "  0%|          | 4/6040 [00:00<03:02, 33.05it/s]"
     ]
    },
    {
     "name": "stdout",
     "output_type": "stream",
     "text": [
      "epoch:13, lr:0.004575358490992203\n"
     ]
    },
    {
     "name": "stderr",
     "output_type": "stream",
     "text": [
      "100%|██████████| 6040/6040 [02:15<00:00, 44.60it/s] \n",
      "  0%|          | 4/6040 [00:00<02:49, 35.63it/s]"
     ]
    },
    {
     "name": "stdout",
     "output_type": "stream",
     "text": [
      "epoch:14, lr:0.004117822641892983\n"
     ]
    },
    {
     "name": "stderr",
     "output_type": "stream",
     "text": [
      "100%|██████████| 6040/6040 [02:14<00:00, 44.75it/s] \n",
      "  0%|          | 4/6040 [00:00<02:51, 35.21it/s]"
     ]
    },
    {
     "name": "stdout",
     "output_type": "stream",
     "text": [
      "epoch:15, lr:0.003706040377703685\n"
     ]
    },
    {
     "name": "stderr",
     "output_type": "stream",
     "text": [
      "100%|██████████| 6040/6040 [02:15<00:00, 44.67it/s] \n",
      "  0%|          | 4/6040 [00:00<02:48, 35.93it/s]"
     ]
    },
    {
     "name": "stdout",
     "output_type": "stream",
     "text": [
      "epoch:16, lr:0.0033354363399333165\n"
     ]
    },
    {
     "name": "stderr",
     "output_type": "stream",
     "text": [
      "100%|██████████| 6040/6040 [02:15<00:00, 44.56it/s] \n",
      "  0%|          | 4/6040 [00:00<02:50, 35.34it/s]"
     ]
    },
    {
     "name": "stdout",
     "output_type": "stream",
     "text": [
      "epoch:17, lr:0.0030018927059399848\n"
     ]
    },
    {
     "name": "stderr",
     "output_type": "stream",
     "text": [
      "100%|██████████| 6040/6040 [02:14<00:00, 44.88it/s] \n",
      "  0%|          | 4/6040 [00:00<02:51, 35.28it/s]"
     ]
    },
    {
     "name": "stdout",
     "output_type": "stream",
     "text": [
      "epoch:18, lr:0.0027017034353459864\n"
     ]
    },
    {
     "name": "stderr",
     "output_type": "stream",
     "text": [
      "100%|██████████| 6040/6040 [02:14<00:00, 44.76it/s] \n",
      "  0%|          | 4/6040 [00:00<02:53, 34.81it/s]"
     ]
    },
    {
     "name": "stdout",
     "output_type": "stream",
     "text": [
      "epoch:19, lr:0.002431533091811388\n"
     ]
    },
    {
     "name": "stderr",
     "output_type": "stream",
     "text": [
      "100%|██████████| 6040/6040 [02:15<00:00, 44.51it/s] \n",
      "  0%|          | 4/6040 [00:00<02:50, 35.42it/s]"
     ]
    },
    {
     "name": "stdout",
     "output_type": "stream",
     "text": [
      "epoch:20, lr:0.002188379782630249\n"
     ]
    },
    {
     "name": "stderr",
     "output_type": "stream",
     "text": [
      "100%|██████████| 6040/6040 [02:15<00:00, 44.55it/s] \n",
      "  0%|          | 4/6040 [00:00<03:02, 33.10it/s]"
     ]
    },
    {
     "name": "stdout",
     "output_type": "stream",
     "text": [
      "epoch:21, lr:0.0019695418043672243\n"
     ]
    },
    {
     "name": "stderr",
     "output_type": "stream",
     "text": [
      "100%|██████████| 6040/6040 [02:15<00:00, 44.72it/s] \n",
      "  0%|          | 4/6040 [00:00<02:48, 35.89it/s]"
     ]
    },
    {
     "name": "stdout",
     "output_type": "stream",
     "text": [
      "epoch:22, lr:0.0017725876239305018\n"
     ]
    },
    {
     "name": "stderr",
     "output_type": "stream",
     "text": [
      "100%|██████████| 6040/6040 [02:14<00:00, 44.85it/s] \n",
      "  0%|          | 4/6040 [00:00<02:51, 35.28it/s]"
     ]
    },
    {
     "name": "stdout",
     "output_type": "stream",
     "text": [
      "epoch:23, lr:0.0015953288615374516\n"
     ]
    },
    {
     "name": "stderr",
     "output_type": "stream",
     "text": [
      "100%|██████████| 6040/6040 [02:15<00:00, 44.54it/s] \n",
      "  0%|          | 4/6040 [00:00<03:08, 31.95it/s]"
     ]
    },
    {
     "name": "stdout",
     "output_type": "stream",
     "text": [
      "epoch:24, lr:0.0014357959753837064\n"
     ]
    },
    {
     "name": "stderr",
     "output_type": "stream",
     "text": [
      "100%|██████████| 6040/6040 [02:15<00:00, 44.70it/s] \n",
      "  0%|          | 4/6040 [00:00<03:02, 32.99it/s]"
     ]
    },
    {
     "name": "stdout",
     "output_type": "stream",
     "text": [
      "epoch:25, lr:0.0012922163778453359\n"
     ]
    },
    {
     "name": "stderr",
     "output_type": "stream",
     "text": [
      "100%|██████████| 6040/6040 [02:14<00:00, 44.75it/s] \n",
      "  0%|          | 4/6040 [00:00<02:51, 35.26it/s]"
     ]
    },
    {
     "name": "stdout",
     "output_type": "stream",
     "text": [
      "epoch:26, lr:0.0011629947400608022\n"
     ]
    },
    {
     "name": "stderr",
     "output_type": "stream",
     "text": [
      "100%|██████████| 6040/6040 [02:15<00:00, 44.59it/s] \n",
      "  0%|          | 4/6040 [00:00<03:05, 32.58it/s]"
     ]
    },
    {
     "name": "stdout",
     "output_type": "stream",
     "text": [
      "epoch:27, lr:0.0010466952660547221\n"
     ]
    },
    {
     "name": "stderr",
     "output_type": "stream",
     "text": [
      "100%|██████████| 6040/6040 [02:15<00:00, 44.70it/s] \n",
      "  0%|          | 4/6040 [00:00<02:50, 35.49it/s]"
     ]
    },
    {
     "name": "stdout",
     "output_type": "stream",
     "text": [
      "epoch:28, lr:0.00094202573944925\n"
     ]
    },
    {
     "name": "stderr",
     "output_type": "stream",
     "text": [
      "100%|██████████| 6040/6040 [02:14<00:00, 44.77it/s] \n"
     ]
    },
    {
     "name": "stdout",
     "output_type": "stream",
     "text": [
      "epoch:29, lr:0.000847823165504325\n"
     ]
    },
    {
     "name": "stderr",
     "output_type": "stream",
     "text": [
      "100%|██████████| 6040/6040 [02:14<00:00, 44.80it/s] \n",
      "  0%|          | 4/6040 [00:00<03:04, 32.65it/s]"
     ]
    },
    {
     "name": "stdout",
     "output_type": "stream",
     "text": [
      "epoch:0, lr:0.018000000000000002\n"
     ]
    },
    {
     "name": "stderr",
     "output_type": "stream",
     "text": [
      "100%|██████████| 6040/6040 [02:15<00:00, 44.63it/s] \n",
      "  0%|          | 4/6040 [00:00<02:49, 35.66it/s]"
     ]
    },
    {
     "name": "stdout",
     "output_type": "stream",
     "text": [
      "epoch:1, lr:0.016200000000000003\n"
     ]
    },
    {
     "name": "stderr",
     "output_type": "stream",
     "text": [
      "100%|██████████| 6040/6040 [02:16<00:00, 44.38it/s] \n",
      "  0%|          | 4/6040 [00:00<02:52, 34.96it/s]"
     ]
    },
    {
     "name": "stdout",
     "output_type": "stream",
     "text": [
      "epoch:2, lr:0.014580000000000003\n"
     ]
    },
    {
     "name": "stderr",
     "output_type": "stream",
     "text": [
      "100%|██████████| 6040/6040 [02:15<00:00, 44.54it/s] \n",
      "  0%|          | 4/6040 [00:00<02:53, 34.86it/s]"
     ]
    },
    {
     "name": "stdout",
     "output_type": "stream",
     "text": [
      "epoch:3, lr:0.013122000000000003\n"
     ]
    },
    {
     "name": "stderr",
     "output_type": "stream",
     "text": [
      "100%|██████████| 6040/6040 [02:15<00:00, 44.65it/s] \n",
      "  0%|          | 4/6040 [00:00<02:52, 35.08it/s]"
     ]
    },
    {
     "name": "stdout",
     "output_type": "stream",
     "text": [
      "epoch:4, lr:0.011809800000000004\n"
     ]
    },
    {
     "name": "stderr",
     "output_type": "stream",
     "text": [
      "100%|██████████| 6040/6040 [02:15<00:00, 44.61it/s] \n",
      "  0%|          | 4/6040 [00:00<03:08, 32.10it/s]"
     ]
    },
    {
     "name": "stdout",
     "output_type": "stream",
     "text": [
      "epoch:5, lr:0.010628820000000004\n"
     ]
    },
    {
     "name": "stderr",
     "output_type": "stream",
     "text": [
      "100%|██████████| 6040/6040 [02:15<00:00, 44.61it/s] \n",
      "  0%|          | 4/6040 [00:00<02:51, 35.26it/s]"
     ]
    },
    {
     "name": "stdout",
     "output_type": "stream",
     "text": [
      "epoch:6, lr:0.009565938000000005\n"
     ]
    },
    {
     "name": "stderr",
     "output_type": "stream",
     "text": [
      "100%|██████████| 6040/6040 [02:15<00:00, 44.49it/s] \n",
      "  0%|          | 4/6040 [00:00<02:49, 35.63it/s]"
     ]
    },
    {
     "name": "stdout",
     "output_type": "stream",
     "text": [
      "epoch:7, lr:0.008609344200000004\n"
     ]
    },
    {
     "name": "stderr",
     "output_type": "stream",
     "text": [
      "100%|██████████| 6040/6040 [02:15<00:00, 44.54it/s] \n",
      "  0%|          | 4/6040 [00:00<02:51, 35.24it/s]"
     ]
    },
    {
     "name": "stdout",
     "output_type": "stream",
     "text": [
      "epoch:8, lr:0.007748409780000004\n"
     ]
    },
    {
     "name": "stderr",
     "output_type": "stream",
     "text": [
      "100%|██████████| 6040/6040 [02:15<00:00, 44.48it/s] \n",
      "  0%|          | 4/6040 [00:00<02:52, 34.91it/s]"
     ]
    },
    {
     "name": "stdout",
     "output_type": "stream",
     "text": [
      "epoch:9, lr:0.006973568802000004\n"
     ]
    },
    {
     "name": "stderr",
     "output_type": "stream",
     "text": [
      "100%|██████████| 6040/6040 [02:15<00:00, 44.49it/s] \n",
      "  0%|          | 4/6040 [00:00<03:04, 32.68it/s]"
     ]
    },
    {
     "name": "stdout",
     "output_type": "stream",
     "text": [
      "epoch:10, lr:0.006276211921800004\n"
     ]
    },
    {
     "name": "stderr",
     "output_type": "stream",
     "text": [
      "100%|██████████| 6040/6040 [02:15<00:00, 44.41it/s] \n",
      "  0%|          | 4/6040 [00:00<02:48, 35.83it/s]"
     ]
    },
    {
     "name": "stdout",
     "output_type": "stream",
     "text": [
      "epoch:11, lr:0.0056485907296200035\n"
     ]
    },
    {
     "name": "stderr",
     "output_type": "stream",
     "text": [
      "100%|██████████| 6040/6040 [02:15<00:00, 44.61it/s] \n",
      "  0%|          | 4/6040 [00:00<02:49, 35.64it/s]"
     ]
    },
    {
     "name": "stdout",
     "output_type": "stream",
     "text": [
      "epoch:12, lr:0.005083731656658003\n"
     ]
    },
    {
     "name": "stderr",
     "output_type": "stream",
     "text": [
      "100%|██████████| 6040/6040 [02:15<00:00, 44.54it/s] \n",
      "  0%|          | 4/6040 [00:00<02:49, 35.60it/s]"
     ]
    },
    {
     "name": "stdout",
     "output_type": "stream",
     "text": [
      "epoch:13, lr:0.004575358490992203\n"
     ]
    },
    {
     "name": "stderr",
     "output_type": "stream",
     "text": [
      "100%|██████████| 6040/6040 [02:15<00:00, 44.50it/s] \n",
      "  0%|          | 4/6040 [00:00<02:51, 35.13it/s]"
     ]
    },
    {
     "name": "stdout",
     "output_type": "stream",
     "text": [
      "epoch:14, lr:0.004117822641892983\n"
     ]
    },
    {
     "name": "stderr",
     "output_type": "stream",
     "text": [
      "100%|██████████| 6040/6040 [02:16<00:00, 44.32it/s] \n",
      "  0%|          | 4/6040 [00:00<02:49, 35.66it/s]"
     ]
    },
    {
     "name": "stdout",
     "output_type": "stream",
     "text": [
      "epoch:15, lr:0.003706040377703685\n"
     ]
    },
    {
     "name": "stderr",
     "output_type": "stream",
     "text": [
      "100%|██████████| 6040/6040 [02:16<00:00, 44.27it/s] \n",
      "  0%|          | 4/6040 [00:00<03:05, 32.49it/s]"
     ]
    },
    {
     "name": "stdout",
     "output_type": "stream",
     "text": [
      "epoch:16, lr:0.0033354363399333165\n"
     ]
    },
    {
     "name": "stderr",
     "output_type": "stream",
     "text": [
      "100%|██████████| 6040/6040 [02:16<00:00, 44.39it/s] \n",
      "  0%|          | 4/6040 [00:00<02:52, 34.93it/s]"
     ]
    },
    {
     "name": "stdout",
     "output_type": "stream",
     "text": [
      "epoch:17, lr:0.0030018927059399848\n"
     ]
    },
    {
     "name": "stderr",
     "output_type": "stream",
     "text": [
      "100%|██████████| 6040/6040 [02:15<00:00, 44.43it/s] \n",
      "  0%|          | 4/6040 [00:00<03:06, 32.35it/s]"
     ]
    },
    {
     "name": "stdout",
     "output_type": "stream",
     "text": [
      "epoch:18, lr:0.0027017034353459864\n"
     ]
    },
    {
     "name": "stderr",
     "output_type": "stream",
     "text": [
      "100%|██████████| 6040/6040 [02:15<00:00, 44.42it/s] \n",
      "  0%|          | 4/6040 [00:00<02:55, 34.33it/s]"
     ]
    },
    {
     "name": "stdout",
     "output_type": "stream",
     "text": [
      "epoch:19, lr:0.002431533091811388\n"
     ]
    },
    {
     "name": "stderr",
     "output_type": "stream",
     "text": [
      "100%|██████████| 6040/6040 [02:15<00:00, 44.42it/s] \n",
      "  0%|          | 4/6040 [00:00<02:54, 34.54it/s]"
     ]
    },
    {
     "name": "stdout",
     "output_type": "stream",
     "text": [
      "epoch:20, lr:0.002188379782630249\n"
     ]
    },
    {
     "name": "stderr",
     "output_type": "stream",
     "text": [
      "100%|██████████| 6040/6040 [02:16<00:00, 44.34it/s] \n",
      "  0%|          | 6/6040 [00:00<04:34, 21.98it/s]"
     ]
    },
    {
     "name": "stdout",
     "output_type": "stream",
     "text": [
      "epoch:21, lr:0.0019695418043672243\n"
     ]
    },
    {
     "name": "stderr",
     "output_type": "stream",
     "text": [
      "100%|██████████| 6040/6040 [02:16<00:00, 44.38it/s] \n",
      "  0%|          | 4/6040 [00:00<03:05, 32.57it/s]"
     ]
    },
    {
     "name": "stdout",
     "output_type": "stream",
     "text": [
      "epoch:22, lr:0.0017725876239305018\n"
     ]
    },
    {
     "name": "stderr",
     "output_type": "stream",
     "text": [
      "100%|██████████| 6040/6040 [02:15<00:00, 44.65it/s] \n",
      "  0%|          | 4/6040 [00:00<02:49, 35.62it/s]"
     ]
    },
    {
     "name": "stdout",
     "output_type": "stream",
     "text": [
      "epoch:23, lr:0.0015953288615374516\n"
     ]
    },
    {
     "name": "stderr",
     "output_type": "stream",
     "text": [
      "100%|██████████| 6040/6040 [02:16<00:00, 44.35it/s] \n",
      "  0%|          | 4/6040 [00:00<03:03, 32.97it/s]"
     ]
    },
    {
     "name": "stdout",
     "output_type": "stream",
     "text": [
      "epoch:24, lr:0.0014357959753837064\n"
     ]
    },
    {
     "name": "stderr",
     "output_type": "stream",
     "text": [
      "100%|██████████| 6040/6040 [02:15<00:00, 44.57it/s] \n",
      "  0%|          | 4/6040 [00:00<03:05, 32.62it/s]"
     ]
    },
    {
     "name": "stdout",
     "output_type": "stream",
     "text": [
      "epoch:25, lr:0.0012922163778453359\n"
     ]
    },
    {
     "name": "stderr",
     "output_type": "stream",
     "text": [
      "100%|██████████| 6040/6040 [02:15<00:00, 44.68it/s] \n",
      "  0%|          | 4/6040 [00:00<02:56, 34.14it/s]"
     ]
    },
    {
     "name": "stdout",
     "output_type": "stream",
     "text": [
      "epoch:26, lr:0.0011629947400608022\n"
     ]
    },
    {
     "name": "stderr",
     "output_type": "stream",
     "text": [
      "100%|██████████| 6040/6040 [02:15<00:00, 44.62it/s] \n",
      "  0%|          | 4/6040 [00:00<02:49, 35.51it/s]"
     ]
    },
    {
     "name": "stdout",
     "output_type": "stream",
     "text": [
      "epoch:27, lr:0.0010466952660547221\n"
     ]
    },
    {
     "name": "stderr",
     "output_type": "stream",
     "text": [
      "100%|██████████| 6040/6040 [02:15<00:00, 44.49it/s] \n",
      "  0%|          | 4/6040 [00:00<02:54, 34.62it/s]"
     ]
    },
    {
     "name": "stdout",
     "output_type": "stream",
     "text": [
      "epoch:28, lr:0.00094202573944925\n"
     ]
    },
    {
     "name": "stderr",
     "output_type": "stream",
     "text": [
      "100%|██████████| 6040/6040 [02:15<00:00, 44.58it/s] \n",
      "  0%|          | 6/6040 [00:00<04:37, 21.73it/s]"
     ]
    },
    {
     "name": "stdout",
     "output_type": "stream",
     "text": [
      "epoch:29, lr:0.000847823165504325\n"
     ]
    },
    {
     "name": "stderr",
     "output_type": "stream",
     "text": [
      "100%|██████████| 6040/6040 [02:15<00:00, 44.74it/s] \n",
      "  0%|          | 4/6040 [00:00<02:51, 35.24it/s]"
     ]
    },
    {
     "name": "stdout",
     "output_type": "stream",
     "text": [
      "epoch:30, lr:0.0007630408489538925\n"
     ]
    },
    {
     "name": "stderr",
     "output_type": "stream",
     "text": [
      "100%|██████████| 6040/6040 [02:14<00:00, 44.94it/s] \n",
      "  0%|          | 4/6040 [00:00<03:04, 32.80it/s]"
     ]
    },
    {
     "name": "stdout",
     "output_type": "stream",
     "text": [
      "epoch:31, lr:0.0006867367640585033\n"
     ]
    },
    {
     "name": "stderr",
     "output_type": "stream",
     "text": [
      "100%|██████████| 6040/6040 [02:14<00:00, 44.76it/s] \n",
      "  0%|          | 4/6040 [00:00<02:48, 35.87it/s]"
     ]
    },
    {
     "name": "stdout",
     "output_type": "stream",
     "text": [
      "epoch:32, lr:0.000618063087652653\n"
     ]
    },
    {
     "name": "stderr",
     "output_type": "stream",
     "text": [
      "100%|██████████| 6040/6040 [02:14<00:00, 44.78it/s] \n",
      "  0%|          | 4/6040 [00:00<03:00, 33.37it/s]"
     ]
    },
    {
     "name": "stdout",
     "output_type": "stream",
     "text": [
      "epoch:33, lr:0.0005562567788873877\n"
     ]
    },
    {
     "name": "stderr",
     "output_type": "stream",
     "text": [
      "100%|██████████| 6040/6040 [02:15<00:00, 44.61it/s] \n",
      "  0%|          | 4/6040 [00:00<02:56, 34.21it/s]"
     ]
    },
    {
     "name": "stdout",
     "output_type": "stream",
     "text": [
      "epoch:34, lr:0.000500631100998649\n"
     ]
    },
    {
     "name": "stderr",
     "output_type": "stream",
     "text": [
      "100%|██████████| 6040/6040 [02:14<00:00, 44.89it/s] \n",
      "  0%|          | 4/6040 [00:00<02:51, 35.27it/s]"
     ]
    },
    {
     "name": "stdout",
     "output_type": "stream",
     "text": [
      "epoch:35, lr:0.0004505679908987841\n"
     ]
    },
    {
     "name": "stderr",
     "output_type": "stream",
     "text": [
      "100%|██████████| 6040/6040 [02:14<00:00, 44.88it/s] \n",
      "  0%|          | 4/6040 [00:00<03:04, 32.74it/s]"
     ]
    },
    {
     "name": "stdout",
     "output_type": "stream",
     "text": [
      "epoch:36, lr:0.00040551119180890573\n"
     ]
    },
    {
     "name": "stderr",
     "output_type": "stream",
     "text": [
      "100%|██████████| 6040/6040 [02:16<00:00, 44.39it/s] \n",
      "  0%|          | 6/6040 [00:00<04:35, 21.91it/s]"
     ]
    },
    {
     "name": "stdout",
     "output_type": "stream",
     "text": [
      "epoch:37, lr:0.00036496007262801515\n"
     ]
    },
    {
     "name": "stderr",
     "output_type": "stream",
     "text": [
      "100%|██████████| 6040/6040 [02:14<00:00, 44.77it/s] \n",
      "  0%|          | 4/6040 [00:00<03:07, 32.27it/s]"
     ]
    },
    {
     "name": "stdout",
     "output_type": "stream",
     "text": [
      "epoch:38, lr:0.00032846406536521367\n"
     ]
    },
    {
     "name": "stderr",
     "output_type": "stream",
     "text": [
      "100%|██████████| 6040/6040 [02:14<00:00, 44.94it/s] \n"
     ]
    },
    {
     "name": "stdout",
     "output_type": "stream",
     "text": [
      "epoch:39, lr:0.0002956176588286923\n"
     ]
    },
    {
     "name": "stderr",
     "output_type": "stream",
     "text": [
      "100%|██████████| 6040/6040 [02:14<00:00, 44.87it/s] \n",
      "  0%|          | 4/6040 [00:00<03:03, 32.92it/s]"
     ]
    },
    {
     "name": "stdout",
     "output_type": "stream",
     "text": [
      "epoch:0, lr:0.018000000000000002\n"
     ]
    },
    {
     "name": "stderr",
     "output_type": "stream",
     "text": [
      "100%|██████████| 6040/6040 [02:14<00:00, 44.84it/s] \n",
      "  0%|          | 4/6040 [00:00<03:05, 32.52it/s]"
     ]
    },
    {
     "name": "stdout",
     "output_type": "stream",
     "text": [
      "epoch:1, lr:0.016200000000000003\n"
     ]
    },
    {
     "name": "stderr",
     "output_type": "stream",
     "text": [
      "100%|██████████| 6040/6040 [02:15<00:00, 44.54it/s] \n",
      "  0%|          | 4/6040 [00:00<02:47, 36.14it/s]"
     ]
    },
    {
     "name": "stdout",
     "output_type": "stream",
     "text": [
      "epoch:2, lr:0.014580000000000003\n"
     ]
    },
    {
     "name": "stderr",
     "output_type": "stream",
     "text": [
      "100%|██████████| 6040/6040 [02:14<00:00, 44.75it/s] \n",
      "  0%|          | 4/6040 [00:00<03:01, 33.27it/s]"
     ]
    },
    {
     "name": "stdout",
     "output_type": "stream",
     "text": [
      "epoch:3, lr:0.013122000000000003\n"
     ]
    },
    {
     "name": "stderr",
     "output_type": "stream",
     "text": [
      "100%|██████████| 6040/6040 [02:15<00:00, 44.57it/s] \n",
      "  0%|          | 4/6040 [00:00<03:06, 32.45it/s]"
     ]
    },
    {
     "name": "stdout",
     "output_type": "stream",
     "text": [
      "epoch:4, lr:0.011809800000000004\n"
     ]
    },
    {
     "name": "stderr",
     "output_type": "stream",
     "text": [
      "100%|██████████| 6040/6040 [02:15<00:00, 44.54it/s] \n",
      "  0%|          | 4/6040 [00:00<02:51, 35.18it/s]"
     ]
    },
    {
     "name": "stdout",
     "output_type": "stream",
     "text": [
      "epoch:5, lr:0.010628820000000004\n"
     ]
    },
    {
     "name": "stderr",
     "output_type": "stream",
     "text": [
      "100%|██████████| 6040/6040 [02:15<00:00, 44.69it/s] \n",
      "  0%|          | 4/6040 [00:00<02:48, 35.73it/s]"
     ]
    },
    {
     "name": "stdout",
     "output_type": "stream",
     "text": [
      "epoch:6, lr:0.009565938000000005\n"
     ]
    },
    {
     "name": "stderr",
     "output_type": "stream",
     "text": [
      "100%|██████████| 6040/6040 [02:15<00:00, 44.58it/s] \n",
      "  0%|          | 4/6040 [00:00<02:52, 35.00it/s]"
     ]
    },
    {
     "name": "stdout",
     "output_type": "stream",
     "text": [
      "epoch:7, lr:0.008609344200000004\n"
     ]
    },
    {
     "name": "stderr",
     "output_type": "stream",
     "text": [
      "100%|██████████| 6040/6040 [02:15<00:00, 44.52it/s] \n",
      "  0%|          | 4/6040 [00:00<02:59, 33.62it/s]"
     ]
    },
    {
     "name": "stdout",
     "output_type": "stream",
     "text": [
      "epoch:8, lr:0.007748409780000004\n"
     ]
    },
    {
     "name": "stderr",
     "output_type": "stream",
     "text": [
      "100%|██████████| 6040/6040 [02:15<00:00, 44.57it/s] \n",
      "  0%|          | 4/6040 [00:00<03:06, 32.33it/s]"
     ]
    },
    {
     "name": "stdout",
     "output_type": "stream",
     "text": [
      "epoch:9, lr:0.006973568802000004\n"
     ]
    },
    {
     "name": "stderr",
     "output_type": "stream",
     "text": [
      "100%|██████████| 6040/6040 [02:16<00:00, 44.39it/s] \n",
      "  0%|          | 4/6040 [00:00<03:03, 32.94it/s]"
     ]
    },
    {
     "name": "stdout",
     "output_type": "stream",
     "text": [
      "epoch:10, lr:0.006276211921800004\n"
     ]
    },
    {
     "name": "stderr",
     "output_type": "stream",
     "text": [
      "100%|██████████| 6040/6040 [02:15<00:00, 44.70it/s] \n",
      "  0%|          | 4/6040 [00:00<02:50, 35.40it/s]"
     ]
    },
    {
     "name": "stdout",
     "output_type": "stream",
     "text": [
      "epoch:11, lr:0.0056485907296200035\n"
     ]
    },
    {
     "name": "stderr",
     "output_type": "stream",
     "text": [
      "100%|██████████| 6040/6040 [02:15<00:00, 44.56it/s] \n",
      "  0%|          | 4/6040 [00:00<03:06, 32.36it/s]"
     ]
    },
    {
     "name": "stdout",
     "output_type": "stream",
     "text": [
      "epoch:12, lr:0.005083731656658003\n"
     ]
    },
    {
     "name": "stderr",
     "output_type": "stream",
     "text": [
      "100%|██████████| 6040/6040 [02:15<00:00, 44.56it/s] \n",
      "  0%|          | 4/6040 [00:00<02:53, 34.88it/s]"
     ]
    },
    {
     "name": "stdout",
     "output_type": "stream",
     "text": [
      "epoch:13, lr:0.004575358490992203\n"
     ]
    },
    {
     "name": "stderr",
     "output_type": "stream",
     "text": [
      "100%|██████████| 6040/6040 [02:15<00:00, 44.68it/s] \n",
      "  0%|          | 4/6040 [00:00<02:54, 34.60it/s]"
     ]
    },
    {
     "name": "stdout",
     "output_type": "stream",
     "text": [
      "epoch:14, lr:0.004117822641892983\n"
     ]
    },
    {
     "name": "stderr",
     "output_type": "stream",
     "text": [
      "100%|██████████| 6040/6040 [02:15<00:00, 44.62it/s] \n",
      "  0%|          | 4/6040 [00:00<02:55, 34.48it/s]"
     ]
    },
    {
     "name": "stdout",
     "output_type": "stream",
     "text": [
      "epoch:15, lr:0.003706040377703685\n"
     ]
    },
    {
     "name": "stderr",
     "output_type": "stream",
     "text": [
      "100%|██████████| 6040/6040 [02:16<00:00, 44.38it/s] \n",
      "  0%|          | 4/6040 [00:00<02:51, 35.15it/s]"
     ]
    },
    {
     "name": "stdout",
     "output_type": "stream",
     "text": [
      "epoch:16, lr:0.0033354363399333165\n"
     ]
    },
    {
     "name": "stderr",
     "output_type": "stream",
     "text": [
      "100%|██████████| 6040/6040 [02:15<00:00, 44.58it/s] \n",
      "  0%|          | 4/6040 [00:00<02:51, 35.30it/s]"
     ]
    },
    {
     "name": "stdout",
     "output_type": "stream",
     "text": [
      "epoch:17, lr:0.0030018927059399848\n"
     ]
    },
    {
     "name": "stderr",
     "output_type": "stream",
     "text": [
      "100%|██████████| 6040/6040 [02:14<00:00, 44.76it/s] \n",
      "  0%|          | 4/6040 [00:00<02:55, 34.31it/s]"
     ]
    },
    {
     "name": "stdout",
     "output_type": "stream",
     "text": [
      "epoch:18, lr:0.0027017034353459864\n"
     ]
    },
    {
     "name": "stderr",
     "output_type": "stream",
     "text": [
      "100%|██████████| 6040/6040 [02:15<00:00, 44.61it/s] \n",
      "  0%|          | 4/6040 [00:00<02:50, 35.37it/s]"
     ]
    },
    {
     "name": "stdout",
     "output_type": "stream",
     "text": [
      "epoch:19, lr:0.002431533091811388\n"
     ]
    },
    {
     "name": "stderr",
     "output_type": "stream",
     "text": [
      "100%|██████████| 6040/6040 [02:15<00:00, 44.67it/s] \n",
      "  0%|          | 4/6040 [00:00<02:55, 34.41it/s]"
     ]
    },
    {
     "name": "stdout",
     "output_type": "stream",
     "text": [
      "epoch:20, lr:0.002188379782630249\n"
     ]
    },
    {
     "name": "stderr",
     "output_type": "stream",
     "text": [
      "100%|██████████| 6040/6040 [02:15<00:00, 44.50it/s] \n",
      "  0%|          | 4/6040 [00:00<02:50, 35.39it/s]"
     ]
    },
    {
     "name": "stdout",
     "output_type": "stream",
     "text": [
      "epoch:21, lr:0.0019695418043672243\n"
     ]
    },
    {
     "name": "stderr",
     "output_type": "stream",
     "text": [
      "100%|██████████| 6040/6040 [02:15<00:00, 44.53it/s] \n",
      "  0%|          | 4/6040 [00:00<02:49, 35.54it/s]"
     ]
    },
    {
     "name": "stdout",
     "output_type": "stream",
     "text": [
      "epoch:22, lr:0.0017725876239305018\n"
     ]
    },
    {
     "name": "stderr",
     "output_type": "stream",
     "text": [
      "100%|██████████| 6040/6040 [02:15<00:00, 44.59it/s] \n",
      "  0%|          | 4/6040 [00:00<03:05, 32.55it/s]"
     ]
    },
    {
     "name": "stdout",
     "output_type": "stream",
     "text": [
      "epoch:23, lr:0.0015953288615374516\n"
     ]
    },
    {
     "name": "stderr",
     "output_type": "stream",
     "text": [
      "100%|██████████| 6040/6040 [02:15<00:00, 44.61it/s] \n",
      "  0%|          | 4/6040 [00:00<02:59, 33.66it/s]"
     ]
    },
    {
     "name": "stdout",
     "output_type": "stream",
     "text": [
      "epoch:24, lr:0.0014357959753837064\n"
     ]
    },
    {
     "name": "stderr",
     "output_type": "stream",
     "text": [
      "100%|██████████| 6040/6040 [02:15<00:00, 44.57it/s] \n",
      "  0%|          | 4/6040 [00:00<03:06, 32.44it/s]"
     ]
    },
    {
     "name": "stdout",
     "output_type": "stream",
     "text": [
      "epoch:25, lr:0.0012922163778453359\n"
     ]
    },
    {
     "name": "stderr",
     "output_type": "stream",
     "text": [
      "100%|██████████| 6040/6040 [02:15<00:00, 44.58it/s] \n",
      "  0%|          | 4/6040 [00:00<02:47, 36.04it/s]"
     ]
    },
    {
     "name": "stdout",
     "output_type": "stream",
     "text": [
      "epoch:26, lr:0.0011629947400608022\n"
     ]
    },
    {
     "name": "stderr",
     "output_type": "stream",
     "text": [
      "100%|██████████| 6040/6040 [02:15<00:00, 44.54it/s] \n",
      "  0%|          | 4/6040 [00:00<02:48, 35.74it/s]"
     ]
    },
    {
     "name": "stdout",
     "output_type": "stream",
     "text": [
      "epoch:27, lr:0.0010466952660547221\n"
     ]
    },
    {
     "name": "stderr",
     "output_type": "stream",
     "text": [
      "100%|██████████| 6040/6040 [02:15<00:00, 44.65it/s] \n",
      "  0%|          | 6/6040 [00:00<04:33, 22.10it/s]"
     ]
    },
    {
     "name": "stdout",
     "output_type": "stream",
     "text": [
      "epoch:28, lr:0.00094202573944925\n"
     ]
    },
    {
     "name": "stderr",
     "output_type": "stream",
     "text": [
      "100%|██████████| 6040/6040 [02:15<00:00, 44.49it/s] \n",
      "  0%|          | 4/6040 [00:00<02:48, 35.75it/s]"
     ]
    },
    {
     "name": "stdout",
     "output_type": "stream",
     "text": [
      "epoch:29, lr:0.000847823165504325\n"
     ]
    },
    {
     "name": "stderr",
     "output_type": "stream",
     "text": [
      "100%|██████████| 6040/6040 [02:15<00:00, 44.62it/s] \n",
      "  0%|          | 4/6040 [00:00<02:49, 35.71it/s]"
     ]
    },
    {
     "name": "stdout",
     "output_type": "stream",
     "text": [
      "epoch:30, lr:0.0007630408489538925\n"
     ]
    },
    {
     "name": "stderr",
     "output_type": "stream",
     "text": [
      "100%|██████████| 6040/6040 [02:15<00:00, 44.74it/s] \n",
      "  0%|          | 4/6040 [00:00<02:57, 33.93it/s]"
     ]
    },
    {
     "name": "stdout",
     "output_type": "stream",
     "text": [
      "epoch:31, lr:0.0006867367640585033\n"
     ]
    },
    {
     "name": "stderr",
     "output_type": "stream",
     "text": [
      "100%|██████████| 6040/6040 [02:14<00:00, 44.76it/s] \n",
      "  0%|          | 4/6040 [00:00<02:47, 36.03it/s]"
     ]
    },
    {
     "name": "stdout",
     "output_type": "stream",
     "text": [
      "epoch:32, lr:0.000618063087652653\n"
     ]
    },
    {
     "name": "stderr",
     "output_type": "stream",
     "text": [
      "100%|██████████| 6040/6040 [02:15<00:00, 44.68it/s] \n",
      "  0%|          | 4/6040 [00:00<02:50, 35.37it/s]"
     ]
    },
    {
     "name": "stdout",
     "output_type": "stream",
     "text": [
      "epoch:33, lr:0.0005562567788873877\n"
     ]
    },
    {
     "name": "stderr",
     "output_type": "stream",
     "text": [
      "100%|██████████| 6040/6040 [02:15<00:00, 44.56it/s] \n",
      "  0%|          | 6/6040 [00:00<04:40, 21.50it/s]"
     ]
    },
    {
     "name": "stdout",
     "output_type": "stream",
     "text": [
      "epoch:34, lr:0.000500631100998649\n"
     ]
    },
    {
     "name": "stderr",
     "output_type": "stream",
     "text": [
      "100%|██████████| 6040/6040 [02:14<00:00, 44.78it/s] \n",
      "  0%|          | 4/6040 [00:00<03:04, 32.69it/s]"
     ]
    },
    {
     "name": "stdout",
     "output_type": "stream",
     "text": [
      "epoch:35, lr:0.0004505679908987841\n"
     ]
    },
    {
     "name": "stderr",
     "output_type": "stream",
     "text": [
      "100%|██████████| 6040/6040 [02:15<00:00, 44.67it/s] \n",
      "  0%|          | 4/6040 [00:00<03:00, 33.36it/s]"
     ]
    },
    {
     "name": "stdout",
     "output_type": "stream",
     "text": [
      "epoch:36, lr:0.00040551119180890573\n"
     ]
    },
    {
     "name": "stderr",
     "output_type": "stream",
     "text": [
      "100%|██████████| 6040/6040 [02:14<00:00, 44.86it/s] \n",
      "  0%|          | 4/6040 [00:00<02:56, 34.22it/s]"
     ]
    },
    {
     "name": "stdout",
     "output_type": "stream",
     "text": [
      "epoch:37, lr:0.00036496007262801515\n"
     ]
    },
    {
     "name": "stderr",
     "output_type": "stream",
     "text": [
      "100%|██████████| 6040/6040 [02:14<00:00, 44.80it/s] \n",
      "  0%|          | 4/6040 [00:00<02:51, 35.16it/s]"
     ]
    },
    {
     "name": "stdout",
     "output_type": "stream",
     "text": [
      "epoch:38, lr:0.00032846406536521367\n"
     ]
    },
    {
     "name": "stderr",
     "output_type": "stream",
     "text": [
      "100%|██████████| 6040/6040 [02:15<00:00, 44.59it/s] \n",
      "  0%|          | 4/6040 [00:00<02:50, 35.42it/s]"
     ]
    },
    {
     "name": "stdout",
     "output_type": "stream",
     "text": [
      "epoch:39, lr:0.0002956176588286923\n"
     ]
    },
    {
     "name": "stderr",
     "output_type": "stream",
     "text": [
      "100%|██████████| 6040/6040 [02:15<00:00, 44.63it/s] \n",
      "  0%|          | 4/6040 [00:00<02:45, 36.43it/s]"
     ]
    },
    {
     "name": "stdout",
     "output_type": "stream",
     "text": [
      "epoch:40, lr:0.0002660558929458231\n"
     ]
    },
    {
     "name": "stderr",
     "output_type": "stream",
     "text": [
      "100%|██████████| 6040/6040 [02:15<00:00, 44.71it/s] \n",
      "  0%|          | 4/6040 [00:00<02:52, 34.91it/s]"
     ]
    },
    {
     "name": "stdout",
     "output_type": "stream",
     "text": [
      "epoch:41, lr:0.00023945030365124078\n"
     ]
    },
    {
     "name": "stderr",
     "output_type": "stream",
     "text": [
      "100%|██████████| 6040/6040 [02:14<00:00, 44.83it/s] \n",
      "  0%|          | 4/6040 [00:00<02:47, 35.98it/s]"
     ]
    },
    {
     "name": "stdout",
     "output_type": "stream",
     "text": [
      "epoch:42, lr:0.0002155052732861167\n"
     ]
    },
    {
     "name": "stderr",
     "output_type": "stream",
     "text": [
      "100%|██████████| 6040/6040 [02:14<00:00, 44.82it/s] \n",
      "  0%|          | 4/6040 [00:00<03:03, 32.83it/s]"
     ]
    },
    {
     "name": "stdout",
     "output_type": "stream",
     "text": [
      "epoch:43, lr:0.00019395474595750503\n"
     ]
    },
    {
     "name": "stderr",
     "output_type": "stream",
     "text": [
      "100%|██████████| 6040/6040 [02:14<00:00, 44.78it/s] \n",
      "  0%|          | 4/6040 [00:00<03:01, 33.34it/s]"
     ]
    },
    {
     "name": "stdout",
     "output_type": "stream",
     "text": [
      "epoch:44, lr:0.00017455927136175454\n"
     ]
    },
    {
     "name": "stderr",
     "output_type": "stream",
     "text": [
      "100%|██████████| 6040/6040 [02:14<00:00, 44.96it/s] \n",
      "  0%|          | 4/6040 [00:00<03:00, 33.38it/s]"
     ]
    },
    {
     "name": "stdout",
     "output_type": "stream",
     "text": [
      "epoch:45, lr:0.0001571033442255791\n"
     ]
    },
    {
     "name": "stderr",
     "output_type": "stream",
     "text": [
      "100%|██████████| 6040/6040 [02:15<00:00, 44.74it/s] \n",
      "  0%|          | 4/6040 [00:00<02:59, 33.62it/s]"
     ]
    },
    {
     "name": "stdout",
     "output_type": "stream",
     "text": [
      "epoch:46, lr:0.0001413930098030212\n"
     ]
    },
    {
     "name": "stderr",
     "output_type": "stream",
     "text": [
      "100%|██████████| 6040/6040 [02:14<00:00, 44.98it/s] \n",
      "  0%|          | 4/6040 [00:00<02:51, 35.21it/s]"
     ]
    },
    {
     "name": "stdout",
     "output_type": "stream",
     "text": [
      "epoch:47, lr:0.0001272537088227191\n"
     ]
    },
    {
     "name": "stderr",
     "output_type": "stream",
     "text": [
      "100%|██████████| 6040/6040 [02:14<00:00, 45.03it/s] \n",
      "  0%|          | 4/6040 [00:00<03:04, 32.68it/s]"
     ]
    },
    {
     "name": "stdout",
     "output_type": "stream",
     "text": [
      "epoch:48, lr:0.00011452833794044719\n"
     ]
    },
    {
     "name": "stderr",
     "output_type": "stream",
     "text": [
      "100%|██████████| 6040/6040 [02:15<00:00, 44.74it/s] \n"
     ]
    },
    {
     "name": "stdout",
     "output_type": "stream",
     "text": [
      "epoch:49, lr:0.00010307550414640248\n"
     ]
    },
    {
     "data": {
      "text/html": [
       "<div>\n",
       "<style scoped>\n",
       "    .dataframe tbody tr th:only-of-type {\n",
       "        vertical-align: middle;\n",
       "    }\n",
       "\n",
       "    .dataframe tbody tr th {\n",
       "        vertical-align: top;\n",
       "    }\n",
       "\n",
       "    .dataframe thead th {\n",
       "        text-align: right;\n",
       "    }\n",
       "</style>\n",
       "<table border=\"1\" class=\"dataframe\">\n",
       "  <thead>\n",
       "    <tr style=\"text-align: right;\">\n",
       "      <th></th>\n",
       "      <th>10</th>\n",
       "      <th>20</th>\n",
       "      <th>30</th>\n",
       "      <th>40</th>\n",
       "      <th>50</th>\n",
       "    </tr>\n",
       "  </thead>\n",
       "  <tbody>\n",
       "    <tr>\n",
       "      <th>precision</th>\n",
       "      <td>0.251359</td>\n",
       "      <td>0.266094</td>\n",
       "      <td>0.268828</td>\n",
       "      <td>0.268378</td>\n",
       "      <td>0.270195</td>\n",
       "    </tr>\n",
       "    <tr>\n",
       "      <th>recall</th>\n",
       "      <td>0.120606</td>\n",
       "      <td>0.127676</td>\n",
       "      <td>0.128988</td>\n",
       "      <td>0.128772</td>\n",
       "      <td>0.129644</td>\n",
       "    </tr>\n",
       "    <tr>\n",
       "      <th>coverage</th>\n",
       "      <td>0.178359</td>\n",
       "      <td>0.183756</td>\n",
       "      <td>0.182407</td>\n",
       "      <td>0.185645</td>\n",
       "      <td>0.184566</td>\n",
       "    </tr>\n",
       "  </tbody>\n",
       "</table>\n",
       "</div>"
      ],
      "text/plain": [
       "                 10        20        30        40        50\n",
       "precision  0.251359  0.266094  0.268828  0.268378  0.270195\n",
       "recall     0.120606  0.127676  0.128988  0.128772  0.129644\n",
       "coverage   0.178359  0.183756  0.182407  0.185645  0.184566"
      ]
     },
     "execution_count": 16,
     "metadata": {},
     "output_type": "execute_result"
    }
   ],
   "source": [
    "epoch_list = [10, 20, 30, 40, 50]\n",
    "metrics_epoch = {}\n",
    "\n",
    "for epoch in epoch_list:\n",
    "    model = LatentFactorModel(K=100, alpha=0.02, beta=0.01, ratio=10)\n",
    "    model.train(user_movies_train, movie_popularity, epoch)\n",
    "    # recommend\n",
    "    user_movies_reco = {}\n",
    "    for u_id in user_movies_test:\n",
    "        user_movies_reco[u_id] = model.recommend(u_id, user_movies_train)\n",
    "    # evaluate\n",
    "    metrics_epoch[epoch] = calc_metrics(user_movies_test, user_movies_reco, all_movie_cnt, n=10)\n",
    "\n",
    "pd.DataFrame(metrics_epoch)"
   ]
  }
 ],
 "metadata": {
  "kernelspec": {
   "display_name": "Python 3",
   "language": "python",
   "name": "python3"
  },
  "language_info": {
   "codemirror_mode": {
    "name": "ipython",
    "version": 3
   },
   "file_extension": ".py",
   "mimetype": "text/x-python",
   "name": "python",
   "nbconvert_exporter": "python",
   "pygments_lexer": "ipython3",
   "version": "3.8.5"
  }
 },
 "nbformat": 4,
 "nbformat_minor": 1
}
